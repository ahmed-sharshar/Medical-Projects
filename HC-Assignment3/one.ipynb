{
 "cells": [
  {
   "cell_type": "markdown",
   "id": "sublime-accuracy",
   "metadata": {
    "papermill": {
     "duration": 0.008555,
     "end_time": "2021-04-06T12:51:07.051470",
     "exception": false,
     "start_time": "2021-04-06T12:51:07.042915",
     "status": "completed"
    },
    "tags": []
   },
   "source": [
    "## Training UNets in Pytorch"
   ]
  },
  {
   "cell_type": "code",
   "execution_count": 1,
   "id": "favorite-tunnel",
   "metadata": {
    "_cell_guid": "b1076dfc-b9ad-4769-8c92-a6c4dae69d19",
    "_uuid": "8f2839f25d086af736a60e9eeb907d3b93b6e0e5",
    "execution": {
     "iopub.execute_input": "2021-04-06T12:51:07.072611Z",
     "iopub.status.busy": "2021-04-06T12:51:07.070920Z",
     "iopub.status.idle": "2021-04-06T12:51:20.714935Z",
     "shell.execute_reply": "2021-04-06T12:51:20.716096Z"
    },
    "papermill": {
     "duration": 13.656978,
     "end_time": "2021-04-06T12:51:20.716513",
     "exception": false,
     "start_time": "2021-04-06T12:51:07.059535",
     "status": "completed"
    },
    "tags": []
   },
   "outputs": [],
   "source": [
    "\n",
    "import numpy as np # linear algebra\n",
    "import pandas as pd # data processing, CSV file I/O (e.g. pd.read_csv)\n",
    "from torchsummary import summary\n",
    "    \n",
    "import os\n",
    "import torch\n",
    "import torch.nn as nn\n",
    "import torchvision.transforms.functional as TF\n",
    "import albumentations as A\n",
    "from albumentations.pytorch import ToTensorV2\n",
    "from tqdm import tqdm\n",
    "import torch.optim as optim"
   ]
  },
  {
   "cell_type": "code",
   "execution_count": 2,
   "id": "5ec988a4",
   "metadata": {},
   "outputs": [
    {
     "name": "stdout",
     "output_type": "stream",
     "text": [
      "mkdir: cannot create directory ‘saved_images’: File exists\n"
     ]
    }
   ],
   "source": [
    "! mkdir saved_images"
   ]
  },
  {
   "cell_type": "code",
   "execution_count": 3,
   "id": "8ba06bd9",
   "metadata": {},
   "outputs": [],
   "source": [
    "import segmentation_models_pytorch as smp\n",
    "\n",
    "def get_pretrained_unet(input_channel, output_channel):\n",
    "    model = smp.Unet(\n",
    "        encoder_name=\"resnet34\", # Choose the encoder architecture\n",
    "        encoder_weights=\"imagenet\", # Use pre-trained weights from ImageNet\n",
    "        in_channels=input_channel,\n",
    "        classes=output_channel,\n",
    "        activation=None, # No activation function for the final layer\n",
    "    )\n",
    "    return model\n"
   ]
  },
  {
   "cell_type": "code",
   "execution_count": 4,
   "id": "492ccc7a",
   "metadata": {},
   "outputs": [],
   "source": [
    "import segmentation_models_pytorch as smp\n",
    "\n",
    "def get_pretrained_unetplusplus(input_channel, output_channel):\n",
    "    model = smp.UnetPlusPlus(\n",
    "        encoder_name=\"resnet34\", # Choose the encoder architecture\n",
    "        encoder_weights=\"imagenet\", # Use pre-trained weights from ImageNet\n",
    "        in_channels=input_channel,\n",
    "        classes=output_channel,\n",
    "        activation=None, # No activation function for the final layer\n",
    "    )\n",
    "    return model\n"
   ]
  },
  {
   "cell_type": "code",
   "execution_count": 5,
   "id": "7d12bd0e",
   "metadata": {},
   "outputs": [],
   "source": [
    "import os\n",
    "import numpy as np\n",
    "import pandas as pd\n",
    "from PIL import Image\n",
    "from torch.utils.data import Dataset\n",
    "\n",
    "class LitsDataset(Dataset):\n",
    "    def __init__(self, csv_file, base_path, type=\"train\", split_ratio=0.2, transform=None):\n",
    "        self.df = pd.read_csv(csv_file)\n",
    "        self.base_path = base_path\n",
    "        self.transform = transform\n",
    "        \n",
    "        # Filter out liver_mask_empty rows\n",
    "        self.df = self.df[self.df['tumor_mask_empty'].isin(['TRUE', True])]\n",
    "        \n",
    "        # Train-test split\n",
    "        if type==\"train\":\n",
    "            self.df = self.df.iloc[:int(len(self.df)*(1-split_ratio))]\n",
    "\n",
    "        elif type==\"val\":\n",
    "            self.df = self.df.iloc[int(len(self.df)*(1-split_ratio)):]\n",
    "\n",
    "    def __len__(self):\n",
    "        return len(self.df)\n",
    "\n",
    "    def __getitem__(self, index):\n",
    "        row = self.df.iloc[index]\n",
    "        img_path = os.path.join(self.base_path, row['filepath'])\n",
    "        image = np.array(Image.open(img_path).convert(\"RGB\"), dtype=np.float32)  # Cast to float32\n",
    "        image = np.transpose(image, (2, 0, 1))\n",
    "\n",
    "        # Load tumor and liver masks\n",
    "        #tumor_mask_path = os.path.join(self.base_path, row['tumor_maskpath'])\n",
    "        liver_mask_path = os.path.join(self.base_path, row['tumor_maskpath'])\n",
    "        #tumor_mask = np.array(Image.open(tumor_mask_path).point(lambda x: x * 255).convert(\"L\"), dtype=np.float32)\n",
    "        liver_mask = np.array(Image.open(liver_mask_path).point(lambda x: x * 255).convert(\"L\"), dtype=np.float32)\n",
    "\n",
    "        # Set mask values\n",
    "        #tumor_mask[tumor_mask == 255.0] = 1.0\n",
    "        liver_mask[liver_mask == 255.0] = 1.0\n",
    "\n",
    "        # Create a two-channel mask\n",
    "        #mask = np.stack((liver_mask , tumor_mask), axis=0)\n",
    "\n",
    "        if self.transform is not None:\n",
    "            augmentations = self.transform(image=image, mask=mask)\n",
    "            image = augmentations[\"image\"]\n",
    "            mask = augmentations[\"mask\"]\n",
    "\n",
    "        return image, liver_mask\n"
   ]
  },
  {
   "cell_type": "code",
   "execution_count": 6,
   "id": "serious-blond",
   "metadata": {
    "execution": {
     "iopub.execute_input": "2021-04-06T12:51:21.655554Z",
     "iopub.status.busy": "2021-04-06T12:51:21.653537Z",
     "iopub.status.idle": "2021-04-06T12:51:21.656309Z",
     "shell.execute_reply": "2021-04-06T12:51:21.656943Z"
    },
    "papermill": {
     "duration": 0.028435,
     "end_time": "2021-04-06T12:51:21.657140",
     "exception": false,
     "start_time": "2021-04-06T12:51:21.628705",
     "status": "completed"
    },
    "tags": []
   },
   "outputs": [],
   "source": [
    "import torchvision\n",
    "from torch.utils.data import DataLoader\n",
    "\n",
    "def save_checkpoint(state, filename=\"my_checkpoint.pth.tar\"):\n",
    "    print(\"=> Saving checkpoint\")\n",
    "    torch.save(state, filename)\n",
    "\n",
    "def load_checkpoint(checkpoint, model):\n",
    "    print(\"=> Loading checkpoint\")\n",
    "    model.load_state_dict(checkpoint[\"state_dict\"])\n",
    "\n",
    "from torch.utils.data import DataLoader\n",
    "\n",
    "def get_loaders(\n",
    "    csv_file,\n",
    "    base_path,\n",
    "    batch_size=8,\n",
    "    train_transform=None,\n",
    "    val_transform=None,\n",
    "    num_workers=4,\n",
    "    pin_memory=True,):\n",
    "\n",
    "    train_ds = LitsDataset(\n",
    "        csv_file=csv_file,\n",
    "        base_path=base_path,\n",
    "        type=\"train\",\n",
    "        transform=train_transform,\n",
    "    )\n",
    "\n",
    "    train_loader = DataLoader(\n",
    "        train_ds,\n",
    "        batch_size=batch_size,\n",
    "        num_workers=num_workers,\n",
    "        pin_memory=pin_memory,\n",
    "        shuffle=True,\n",
    "    )\n",
    "\n",
    "    val_ds = LitsDataset(\n",
    "        csv_file=csv_file,\n",
    "        base_path=base_path,\n",
    "        type=\"val\",\n",
    "        transform=val_transform,\n",
    "    )\n",
    "\n",
    "    val_loader = DataLoader(\n",
    "        val_ds,\n",
    "        batch_size=batch_size,\n",
    "        num_workers=num_workers,\n",
    "        pin_memory=pin_memory,\n",
    "        shuffle=False,\n",
    "    )\n",
    "    \n",
    "    test_ds = LitsDataset(\n",
    "        csv_file=\"/apps/local/shared/HC701/assessment/assignment_3/data/hc701_lits_test.csv\",\n",
    "        base_path=base_path,\n",
    "        type=\"test\",\n",
    "        transform=val_transform,\n",
    "    )\n",
    "\n",
    "    test_loader = DataLoader(\n",
    "        test_ds,\n",
    "        batch_size=batch_size,\n",
    "        num_workers=num_workers,\n",
    "        pin_memory=pin_memory,\n",
    "        shuffle=False,\n",
    "    )\n",
    "    \n",
    "\n",
    "    return train_loader, val_loader, test_loader\n",
    "\n",
    "\n",
    "\n",
    "# def check_accuracy(loader, model, device=\"cuda\"):\n",
    "#     num_correct = 0\n",
    "#     num_pixels = 0\n",
    "#     dice_score = 0\n",
    "#     model.eval()\n",
    "\n",
    "#     with torch.no_grad():\n",
    "#         for x, y in loader:\n",
    "#             x = x.to(device)\n",
    "#             y = y.to(device).unsqueeze(1)\n",
    "#             preds = torch.sigmoid(model(x))\n",
    "# #             print(preds.shape)\n",
    "#             preds = (preds > 0.5).float()\n",
    "#             num_correct += (preds == y).sum()\n",
    "#             num_pixels += torch.numel(preds)\n",
    "#             dice_score += (2 * (preds * y).sum()) / (\n",
    "#                 (preds + y).sum() + 1e-8\n",
    "#             )\n",
    "\n",
    "#     print(f\"Got {num_correct}/{num_pixels} with acc {num_correct/num_pixels*100:.2f}\")\n",
    "#     print(f\"Dice score: {dice_score/len(loader)}\")\n",
    "#     model.train()\n",
    "\n",
    "def save_predictions_as_imgs(loader, model, folder=\"saved_images/\", device=\"cuda\"):\n",
    "    \n",
    "    model.eval()\n",
    "    for idx, (x, y) in enumerate(loader):\n",
    "        x = x.to(device=device)\n",
    "        with torch.no_grad():\n",
    "            preds = torch.sigmoid(model(x))\n",
    "#             preds.shape\n",
    "            preds = (preds > 0.5).float()\n",
    "        torchvision.utils.save_image(\n",
    "            preds, f\"{folder}/pred_{idx}.png\"\n",
    "        )\n",
    "        torchvision.utils.save_image(y.unsqueeze(1), f\"{folder}{idx}.png\")\n",
    "\n",
    "    model.train()"
   ]
  },
  {
   "cell_type": "code",
   "execution_count": 7,
   "id": "74b7afcd",
   "metadata": {},
   "outputs": [],
   "source": [
    "import torch\n",
    "from scipy.spatial.distance import directed_hausdorff\n",
    "import numpy as np\n",
    "\n",
    "def check_accuracy(loader, model, device=\"cuda\"):\n",
    "    num_correct = 0\n",
    "    num_pixels = 0\n",
    "    dice_score = 0\n",
    "    jaccard_score = 0\n",
    "    precision = 0\n",
    "    recall = 0\n",
    "    hausdorff_distance = 0\n",
    "    model.eval()\n",
    "\n",
    "    with torch.no_grad():\n",
    "        for x, y in loader:\n",
    "            x = x.to(device)\n",
    "            y = y.to(device).unsqueeze(1)\n",
    "            preds = torch.sigmoid(model(x))\n",
    "            preds = (preds > 0.5).float()\n",
    "\n",
    "            num_correct += (preds == y).sum()\n",
    "            num_pixels += torch.numel(preds)\n",
    "\n",
    "            intersection = (preds * y).sum()\n",
    "            union = (preds + y).sum() - intersection\n",
    "\n",
    "            dice_score += (2 * intersection) / (preds.sum() + y.sum() + 1e-8)\n",
    "            jaccard_score += intersection / (union + 1e-8)\n",
    "            precision += intersection / (preds.sum() + 1e-8)\n",
    "            recall += intersection / (y.sum() + 1e-8)\n",
    "\n",
    "            # Calculate Hausdorff distance\n",
    "            y_np = y.squeeze().cpu().numpy()\n",
    "            preds_np = preds.squeeze().cpu().numpy()\n",
    "            \n",
    "            hausdorff_slices = []\n",
    "            for idx in range(y_np.shape[0]):\n",
    "                hd1 = directed_hausdorff(y_np[idx], preds_np[idx])[0]\n",
    "                hd2 = directed_hausdorff(preds_np[idx], y_np[idx])[0]\n",
    "                hausdorff_slices.append(max(hd1, hd2))\n",
    "            hausdorff_distance += np.mean(hausdorff_slices)\n",
    "\n",
    "    n = len(loader)\n",
    "    print(f\"Got {num_correct}/{num_pixels} with acc {num_correct/num_pixels*100:.2f}\")\n",
    "    print(f\"Dice score: {dice_score/n}\")\n",
    "    print(f\"Jaccard score: {jaccard_score/n}\")\n",
    "    print(f\"Precision: {precision/n}\")\n",
    "    print(f\"Recall: {recall/n}\")\n",
    "    print(f\"F1-score: {(2 * precision * recall) / (precision + recall + 1e-8)/n}\")\n",
    "    print(f\"Mean Hausdorff distance: {hausdorff_distance/n}\")\n",
    "    model.train()\n"
   ]
  },
  {
   "cell_type": "code",
   "execution_count": 8,
   "id": "latest-devil",
   "metadata": {
    "execution": {
     "iopub.execute_input": "2021-04-06T12:51:21.683026Z",
     "iopub.status.busy": "2021-04-06T12:51:21.681160Z",
     "iopub.status.idle": "2021-04-06T12:51:21.683597Z",
     "shell.execute_reply": "2021-04-06T12:51:21.684017Z"
    },
    "papermill": {
     "duration": 0.01745,
     "end_time": "2021-04-06T12:51:21.684168",
     "exception": false,
     "start_time": "2021-04-06T12:51:21.666718",
     "status": "completed"
    },
    "tags": []
   },
   "outputs": [],
   "source": [
    "# hyperparams\n",
    "lr = 1e-6\n",
    "dev = \"cuda\"\n",
    "batch_size = 8\n",
    "epochs = 50\n",
    "workers= 8\n",
    "img_h = 256\n",
    "img_w = 256\n",
    "pin_mem= True\n",
    "load_model = False\n"
   ]
  },
  {
   "cell_type": "code",
   "execution_count": 9,
   "id": "defensive-heading",
   "metadata": {
    "execution": {
     "iopub.execute_input": "2021-04-06T12:51:21.712883Z",
     "iopub.status.busy": "2021-04-06T12:51:21.710884Z",
     "iopub.status.idle": "2021-04-06T12:51:21.713492Z",
     "shell.execute_reply": "2021-04-06T12:51:21.713913Z"
    },
    "papermill": {
     "duration": 0.019925,
     "end_time": "2021-04-06T12:51:21.714048",
     "exception": false,
     "start_time": "2021-04-06T12:51:21.694123",
     "status": "completed"
    },
    "tags": []
   },
   "outputs": [],
   "source": [
    "def train_fn(loader, model, optimizer, loss_fn, scaler):\n",
    "    loop = tqdm(loader)\n",
    "\n",
    "    for batch_idx, (data, targets) in enumerate(loop):\n",
    "        data = data.to(device=dev)\n",
    "        targets = targets.float().unsqueeze(1).to(device=dev)\n",
    "\n",
    "        # forward\n",
    "        with torch.cuda.amp.autocast():\n",
    "            predictions = model(data)\n",
    "            loss = loss_fn(predictions, targets)\n",
    "\n",
    "        # backward\n",
    "        optimizer.zero_grad()\n",
    "        scaler.scale(loss).backward()\n",
    "        scaler.step(optimizer)\n",
    "        scaler.update()\n",
    "\n",
    "        # update tqdm loop\n",
    "        loop.set_postfix(loss=loss.item())\n",
    "        "
   ]
  },
  {
   "cell_type": "code",
   "execution_count": 10,
   "id": "17216fd8",
   "metadata": {},
   "outputs": [],
   "source": [
    "import torch.nn.functional as F\n",
    "from segmentation_models_pytorch.losses import DiceLoss, FocalLoss\n",
    "\n",
    "class CombinedLoss(torch.nn.Module):\n",
    "    def __init__(self, alpha=0.5, gamma=2, weight=None, reduction='mean', focal_weight=0.5, dice_weight=0.5):\n",
    "        super(CombinedLoss, self).__init__()\n",
    "        self.alpha = alpha\n",
    "        self.gamma = gamma\n",
    "        self.weight = weight\n",
    "        self.reduction = reduction\n",
    "        self.focal_weight = focal_weight\n",
    "        self.dice_weight = dice_weight\n",
    "        self.focal_loss = FocalLoss(mode='binary', alpha=alpha, gamma=gamma)\n",
    "        self.dice_loss = DiceLoss(mode='binary')\n",
    "\n",
    "    def forward(self, logits, targets):\n",
    "        focal_loss = self.focal_loss(logits, targets)\n",
    "        dice_loss = self.dice_loss(logits, targets)\n",
    "        return self.focal_weight * focal_loss + self.dice_weight * dice_loss\n"
   ]
  },
  {
   "cell_type": "code",
   "execution_count": 11,
   "id": "479a51c0",
   "metadata": {},
   "outputs": [],
   "source": [
    "def eval_fn(loader, model, device, criterion):\n",
    "    model.eval()\n",
    "    with torch.no_grad():\n",
    "        total_loss = 0.0\n",
    "        for data in loader:\n",
    "            inputs, targets = data\n",
    "            inputs, targets = inputs.to(device), targets.to(device)\n",
    "            outputs = model(inputs)\n",
    "            loss = criterion(outputs, targets)\n",
    "            total_loss += loss.item() * inputs.size(0)\n",
    "        \n",
    "        avg_loss = total_loss / len(loader.dataset)\n",
    "        \n",
    "    return avg_loss\n"
   ]
  },
  {
   "cell_type": "code",
   "execution_count": 13,
   "id": "religious-cause",
   "metadata": {
    "execution": {
     "iopub.execute_input": "2021-04-06T12:51:21.748520Z",
     "iopub.status.busy": "2021-04-06T12:51:21.743088Z",
     "iopub.status.idle": "2021-04-06T13:23:25.415917Z",
     "shell.execute_reply": "2021-04-06T13:23:25.415330Z"
    },
    "papermill": {
     "duration": 1923.690808,
     "end_time": "2021-04-06T13:23:25.416069",
     "exception": false,
     "start_time": "2021-04-06T12:51:21.725261",
     "status": "completed"
    },
    "tags": []
   },
   "outputs": [
    {
     "name": "stdout",
     "output_type": "stream",
     "text": [
      "0\n"
     ]
    },
    {
     "name": "stderr",
     "output_type": "stream",
     "text": [
      "100%|██████████| 414/414 [00:38<00:00, 10.62it/s, loss=0.527]\n"
     ]
    },
    {
     "name": "stdout",
     "output_type": "stream",
     "text": [
      "Got 53844691/54198272 with acc 99.35\n",
      "Dice score: 0.39618411660194397\n",
      "Jaccard score: 0.29805994033813477\n",
      "Precision: 0.4693100154399872\n",
      "Recall: 0.41527435183525085\n",
      "F1-score: 0.4406417906284332\n",
      "Mean Hausdorff distance: 3.516203421837848\n",
      "1\n"
     ]
    },
    {
     "name": "stderr",
     "output_type": "stream",
     "text": [
      "100%|██████████| 414/414 [00:39<00:00, 10.37it/s, loss=0.138] \n"
     ]
    },
    {
     "name": "stdout",
     "output_type": "stream",
     "text": [
      "Got 53902054/54198272 with acc 99.45\n",
      "Dice score: 0.4458152949810028\n",
      "Jaccard score: 0.3377199172973633\n",
      "Precision: 0.5604496002197266\n",
      "Recall: 0.41336002945899963\n",
      "F1-score: 0.4757961928844452\n",
      "Mean Hausdorff distance: 3.2261187364341097\n",
      "2\n"
     ]
    },
    {
     "name": "stderr",
     "output_type": "stream",
     "text": [
      "100%|██████████| 414/414 [00:37<00:00, 11.01it/s, loss=0.161] \n"
     ]
    },
    {
     "name": "stdout",
     "output_type": "stream",
     "text": [
      "Got 53925652/54198272 with acc 99.50\n",
      "Dice score: 0.45633387565612793\n",
      "Jaccard score: 0.3463192582130432\n",
      "Precision: 0.6343935132026672\n",
      "Recall: 0.40416207909584045\n",
      "F1-score: 0.4937584400177002\n",
      "Mean Hausdorff distance: 3.1344488248634854\n",
      "3\n"
     ]
    },
    {
     "name": "stderr",
     "output_type": "stream",
     "text": [
      "100%|██████████| 414/414 [00:38<00:00, 10.73it/s, loss=0.526] \n"
     ]
    },
    {
     "name": "stdout",
     "output_type": "stream",
     "text": [
      "Got 53904091/54198272 with acc 99.46\n",
      "Dice score: 0.4370352029800415\n",
      "Jaccard score: 0.3271198868751526\n",
      "Precision: 0.6295318007469177\n",
      "Recall: 0.37877199053764343\n",
      "F1-score: 0.472970575094223\n",
      "Mean Hausdorff distance: 3.1651654696579623\n",
      "4\n"
     ]
    },
    {
     "name": "stderr",
     "output_type": "stream",
     "text": [
      "100%|██████████| 414/414 [00:39<00:00, 10.49it/s, loss=0.141] \n"
     ]
    },
    {
     "name": "stdout",
     "output_type": "stream",
     "text": [
      "Got 53936825/54198272 with acc 99.52\n",
      "Dice score: 0.4832511246204376\n",
      "Jaccard score: 0.3716176152229309\n",
      "Precision: 0.6555336713790894\n",
      "Recall: 0.4295060634613037\n",
      "F1-score: 0.5189776420593262\n",
      "Mean Hausdorff distance: 3.078646724885734\n",
      "5\n"
     ]
    },
    {
     "name": "stderr",
     "output_type": "stream",
     "text": [
      "100%|██████████| 414/414 [00:38<00:00, 10.72it/s, loss=0.305] \n"
     ]
    },
    {
     "name": "stdout",
     "output_type": "stream",
     "text": [
      "Got 53946370/54198272 with acc 99.54\n",
      "Dice score: 0.4785108268260956\n",
      "Jaccard score: 0.3692352771759033\n",
      "Precision: 0.6568892002105713\n",
      "Recall: 0.42317378520965576\n",
      "F1-score: 0.5147445797920227\n",
      "Mean Hausdorff distance: 3.084302496560128\n",
      "6\n"
     ]
    },
    {
     "name": "stderr",
     "output_type": "stream",
     "text": [
      "100%|██████████| 414/414 [00:38<00:00, 10.73it/s, loss=0.0809]\n"
     ]
    },
    {
     "name": "stdout",
     "output_type": "stream",
     "text": [
      "Got 53946280/54198272 with acc 99.54\n",
      "Dice score: 0.490526020526886\n",
      "Jaccard score: 0.3792916536331177\n",
      "Precision: 0.6631592512130737\n",
      "Recall: 0.447778582572937\n",
      "F1-score: 0.5345906615257263\n",
      "Mean Hausdorff distance: 3.079715257763873\n",
      "7\n"
     ]
    },
    {
     "name": "stderr",
     "output_type": "stream",
     "text": [
      "100%|██████████| 414/414 [00:38<00:00, 10.81it/s, loss=0.19]  \n"
     ]
    },
    {
     "name": "stdout",
     "output_type": "stream",
     "text": [
      "Got 53951556/54198272 with acc 99.54\n",
      "Dice score: 0.4850725829601288\n",
      "Jaccard score: 0.3759429156780243\n",
      "Precision: 0.62287837266922\n",
      "Recall: 0.4574204981327057\n",
      "F1-score: 0.5274786949157715\n",
      "Mean Hausdorff distance: 3.0815583058642297\n",
      "8\n"
     ]
    },
    {
     "name": "stderr",
     "output_type": "stream",
     "text": [
      "100%|██████████| 414/414 [00:36<00:00, 11.26it/s, loss=0.499] \n"
     ]
    },
    {
     "name": "stdout",
     "output_type": "stream",
     "text": [
      "Got 53952994/54198272 with acc 99.55\n",
      "Dice score: 0.4980138838291168\n",
      "Jaccard score: 0.3852366805076599\n",
      "Precision: 0.6483213901519775\n",
      "Recall: 0.4509125053882599\n",
      "F1-score: 0.5318908095359802\n",
      "Mean Hausdorff distance: 3.0443009715888607\n",
      "9\n"
     ]
    },
    {
     "name": "stderr",
     "output_type": "stream",
     "text": [
      "100%|██████████| 414/414 [00:36<00:00, 11.24it/s, loss=0.8]   \n"
     ]
    },
    {
     "name": "stdout",
     "output_type": "stream",
     "text": [
      "Got 53939610/54198272 with acc 99.52\n",
      "Dice score: 0.48976922035217285\n",
      "Jaccard score: 0.3729501962661743\n",
      "Precision: 0.6477521061897278\n",
      "Recall: 0.4499916136264801\n",
      "F1-score: 0.5310584306716919\n",
      "Mean Hausdorff distance: 3.0806150894735795\n",
      "10\n"
     ]
    },
    {
     "name": "stderr",
     "output_type": "stream",
     "text": [
      "100%|██████████| 414/414 [00:38<00:00, 10.79it/s, loss=0.0293]\n"
     ]
    },
    {
     "name": "stdout",
     "output_type": "stream",
     "text": [
      "Got 53838361/54198272 with acc 99.34\n",
      "Dice score: 0.37663576006889343\n",
      "Jaccard score: 0.2673940062522888\n",
      "Precision: 0.6790729761123657\n",
      "Recall: 0.2861822545528412\n",
      "F1-score: 0.4026678800582886\n",
      "Mean Hausdorff distance: 3.3175428468860195\n",
      "11\n"
     ]
    },
    {
     "name": "stderr",
     "output_type": "stream",
     "text": [
      "100%|██████████| 414/414 [00:38<00:00, 10.83it/s, loss=0.0864]\n"
     ]
    },
    {
     "name": "stdout",
     "output_type": "stream",
     "text": [
      "Epoch 00012: reducing learning rate of group 0 to 1.0000e-05.\n",
      "Got 53926820/54198272 with acc 99.50\n",
      "Dice score: 0.4695315957069397\n",
      "Jaccard score: 0.35701942443847656\n",
      "Precision: 0.669028103351593\n",
      "Recall: 0.41440054774284363\n",
      "F1-score: 0.5117930173873901\n",
      "Mean Hausdorff distance: 3.0997002876728703\n",
      "12\n"
     ]
    },
    {
     "name": "stderr",
     "output_type": "stream",
     "text": [
      "100%|██████████| 414/414 [00:37<00:00, 11.05it/s, loss=0.0703]\n"
     ]
    },
    {
     "name": "stdout",
     "output_type": "stream",
     "text": [
      "Got 53943001/54198272 with acc 99.53\n",
      "Dice score: 0.49031326174736023\n",
      "Jaccard score: 0.3767741918563843\n",
      "Precision: 0.6590667963027954\n",
      "Recall: 0.4403355121612549\n",
      "F1-score: 0.5279423594474792\n",
      "Mean Hausdorff distance: 3.057276864498403\n",
      "13\n"
     ]
    },
    {
     "name": "stderr",
     "output_type": "stream",
     "text": [
      "100%|██████████| 414/414 [00:38<00:00, 10.81it/s, loss=0.0191]\n"
     ]
    },
    {
     "name": "stdout",
     "output_type": "stream",
     "text": [
      "Got 53940980/54198272 with acc 99.53\n",
      "Dice score: 0.4928587079048157\n",
      "Jaccard score: 0.378490686416626\n",
      "Precision: 0.6581636071205139\n",
      "Recall: 0.4441027343273163\n",
      "F1-score: 0.5303477644920349\n",
      "Mean Hausdorff distance: 3.0589454074329336\n",
      "14\n"
     ]
    },
    {
     "name": "stderr",
     "output_type": "stream",
     "text": [
      "100%|██████████| 414/414 [00:38<00:00, 10.84it/s, loss=0.0735]\n"
     ]
    },
    {
     "name": "stdout",
     "output_type": "stream",
     "text": [
      "Epoch 00015: reducing learning rate of group 0 to 1.0000e-06.\n",
      "Got 53941152/54198272 with acc 99.53\n",
      "Dice score: 0.49015742540359497\n",
      "Jaccard score: 0.376149445772171\n",
      "Precision: 0.6715083718299866\n",
      "Recall: 0.4349646270275116\n",
      "F1-score: 0.5279520750045776\n",
      "Mean Hausdorff distance: 3.059608082510437\n",
      "15\n"
     ]
    },
    {
     "name": "stderr",
     "output_type": "stream",
     "text": [
      "100%|██████████| 414/414 [00:38<00:00, 10.66it/s, loss=0.183] \n"
     ]
    },
    {
     "name": "stdout",
     "output_type": "stream",
     "text": [
      "Got 53938851/54198272 with acc 99.52\n",
      "Dice score: 0.4891809821128845\n",
      "Jaccard score: 0.3746798038482666\n",
      "Precision: 0.6682640910148621\n",
      "Recall: 0.43521440029144287\n",
      "F1-score: 0.5271297097206116\n",
      "Mean Hausdorff distance: 3.065718228967846\n",
      "16\n"
     ]
    },
    {
     "name": "stderr",
     "output_type": "stream",
     "text": [
      "100%|██████████| 414/414 [00:38<00:00, 10.66it/s, loss=0.0336]\n"
     ]
    },
    {
     "name": "stdout",
     "output_type": "stream",
     "text": [
      "Got 53940169/54198272 with acc 99.52\n",
      "Dice score: 0.4917598068714142\n",
      "Jaccard score: 0.37701061367988586\n",
      "Precision: 0.6685816049575806\n",
      "Recall: 0.4377239942550659\n",
      "F1-score: 0.5290657877922058\n",
      "Mean Hausdorff distance: 3.0607813806824327\n",
      "17\n"
     ]
    },
    {
     "name": "stderr",
     "output_type": "stream",
     "text": [
      "100%|██████████| 414/414 [00:38<00:00, 10.88it/s, loss=0.12]  \n"
     ]
    },
    {
     "name": "stdout",
     "output_type": "stream",
     "text": [
      "Epoch 00018: reducing learning rate of group 0 to 1.0000e-07.\n",
      "Got 53941569/54198272 with acc 99.53\n",
      "Dice score: 0.49292758107185364\n",
      "Jaccard score: 0.378203809261322\n",
      "Precision: 0.6681854128837585\n",
      "Recall: 0.44137042760849\n",
      "F1-score: 0.5315952301025391\n",
      "Mean Hausdorff distance: 3.0624466717037495\n",
      "18\n"
     ]
    },
    {
     "name": "stderr",
     "output_type": "stream",
     "text": [
      "100%|██████████| 414/414 [00:39<00:00, 10.55it/s, loss=0.0202]\n"
     ]
    },
    {
     "name": "stdout",
     "output_type": "stream",
     "text": [
      "Got 53940916/54198272 with acc 99.53\n",
      "Dice score: 0.49105319380760193\n",
      "Jaccard score: 0.3766283392906189\n",
      "Precision: 0.6781863570213318\n",
      "Recall: 0.4363296329975128\n",
      "F1-score: 0.5310158133506775\n",
      "Mean Hausdorff distance: 3.06506997409143\n",
      "19\n"
     ]
    },
    {
     "name": "stderr",
     "output_type": "stream",
     "text": [
      "100%|██████████| 414/414 [00:39<00:00, 10.55it/s, loss=0.01]  \n"
     ]
    },
    {
     "name": "stdout",
     "output_type": "stream",
     "text": [
      "Got 53939072/54198272 with acc 99.52\n",
      "Dice score: 0.4917924106121063\n",
      "Jaccard score: 0.37674200534820557\n",
      "Precision: 0.6665008664131165\n",
      "Recall: 0.4390020966529846\n",
      "F1-score: 0.5293432474136353\n",
      "Mean Hausdorff distance: 3.0621590729886785\n",
      "20\n"
     ]
    },
    {
     "name": "stderr",
     "output_type": "stream",
     "text": [
      "100%|██████████| 414/414 [00:38<00:00, 10.66it/s, loss=0.0342]\n"
     ]
    },
    {
     "name": "stdout",
     "output_type": "stream",
     "text": [
      "Epoch 00021: reducing learning rate of group 0 to 1.0000e-08.\n",
      "Got 53940049/54198272 with acc 99.52\n",
      "Dice score: 0.4953796863555908\n",
      "Jaccard score: 0.3796701431274414\n",
      "Precision: 0.6726676225662231\n",
      "Recall: 0.4428321123123169\n",
      "F1-score: 0.5340724587440491\n",
      "Mean Hausdorff distance: 3.0544373477997078\n",
      "21\n"
     ]
    },
    {
     "name": "stderr",
     "output_type": "stream",
     "text": [
      "100%|██████████| 414/414 [00:39<00:00, 10.43it/s, loss=0.8]   \n"
     ]
    },
    {
     "name": "stdout",
     "output_type": "stream",
     "text": [
      "Got 53941179/54198272 with acc 99.53\n",
      "Dice score: 0.4929441511631012\n",
      "Jaccard score: 0.37798187136650085\n",
      "Precision: 0.6726890206336975\n",
      "Recall: 0.43988901376724243\n",
      "F1-score: 0.5319330096244812\n",
      "Mean Hausdorff distance: 3.063014041177901\n",
      "22\n"
     ]
    },
    {
     "name": "stderr",
     "output_type": "stream",
     "text": [
      "100%|██████████| 414/414 [00:38<00:00, 10.84it/s, loss=0.0924]\n"
     ]
    },
    {
     "name": "stdout",
     "output_type": "stream",
     "text": [
      "Got 53941612/54198272 with acc 99.53\n",
      "Dice score: 0.49398699402809143\n",
      "Jaccard score: 0.3790588974952698\n",
      "Precision: 0.671692967414856\n",
      "Recall: 0.44139933586120605\n",
      "F1-score: 0.5327227711677551\n",
      "Mean Hausdorff distance: 3.058523475653625\n",
      "23\n"
     ]
    },
    {
     "name": "stderr",
     "output_type": "stream",
     "text": [
      "  3%|▎         | 13/414 [00:01<00:53,  7.52it/s, loss=0.048] \n"
     ]
    },
    {
     "ename": "KeyboardInterrupt",
     "evalue": "",
     "output_type": "error",
     "traceback": [
      "\u001b[0;31m---------------------------------------------------------------------------\u001b[0m",
      "\u001b[0;31mKeyboardInterrupt\u001b[0m                         Traceback (most recent call last)",
      "Cell \u001b[0;32mIn[13], line 72\u001b[0m\n\u001b[1;32m     70\u001b[0m \u001b[39mfor\u001b[39;00m epoch \u001b[39min\u001b[39;00m \u001b[39mrange\u001b[39m(epochs):\n\u001b[1;32m     71\u001b[0m     \u001b[39mprint\u001b[39m(epoch)\n\u001b[0;32m---> 72\u001b[0m     train_fn(train_loader, model, optimizer, loss_fn, scaler)\n\u001b[1;32m     73\u001b[0m     val_loss \u001b[39m=\u001b[39m eval_fn(val_loader, model, device\u001b[39m=\u001b[39mdev, criterion\u001b[39m=\u001b[39mloss_fn)\n\u001b[1;32m     74\u001b[0m     scheduler\u001b[39m.\u001b[39mstep(val_loss)\n",
      "Cell \u001b[0;32mIn[9], line 15\u001b[0m, in \u001b[0;36mtrain_fn\u001b[0;34m(loader, model, optimizer, loss_fn, scaler)\u001b[0m\n\u001b[1;32m     13\u001b[0m \u001b[39m# backward\u001b[39;00m\n\u001b[1;32m     14\u001b[0m optimizer\u001b[39m.\u001b[39mzero_grad()\n\u001b[0;32m---> 15\u001b[0m scaler\u001b[39m.\u001b[39;49mscale(loss)\u001b[39m.\u001b[39;49mbackward()\n\u001b[1;32m     16\u001b[0m scaler\u001b[39m.\u001b[39mstep(optimizer)\n\u001b[1;32m     17\u001b[0m scaler\u001b[39m.\u001b[39mupdate()\n",
      "File \u001b[0;32m~/.conda/envs/new/lib/python3.10/site-packages/torch/_tensor.py:488\u001b[0m, in \u001b[0;36mTensor.backward\u001b[0;34m(self, gradient, retain_graph, create_graph, inputs)\u001b[0m\n\u001b[1;32m    478\u001b[0m \u001b[39mif\u001b[39;00m has_torch_function_unary(\u001b[39mself\u001b[39m):\n\u001b[1;32m    479\u001b[0m     \u001b[39mreturn\u001b[39;00m handle_torch_function(\n\u001b[1;32m    480\u001b[0m         Tensor\u001b[39m.\u001b[39mbackward,\n\u001b[1;32m    481\u001b[0m         (\u001b[39mself\u001b[39m,),\n\u001b[0;32m   (...)\u001b[0m\n\u001b[1;32m    486\u001b[0m         inputs\u001b[39m=\u001b[39minputs,\n\u001b[1;32m    487\u001b[0m     )\n\u001b[0;32m--> 488\u001b[0m torch\u001b[39m.\u001b[39;49mautograd\u001b[39m.\u001b[39;49mbackward(\n\u001b[1;32m    489\u001b[0m     \u001b[39mself\u001b[39;49m, gradient, retain_graph, create_graph, inputs\u001b[39m=\u001b[39;49minputs\n\u001b[1;32m    490\u001b[0m )\n",
      "File \u001b[0;32m~/.conda/envs/new/lib/python3.10/site-packages/torch/autograd/__init__.py:197\u001b[0m, in \u001b[0;36mbackward\u001b[0;34m(tensors, grad_tensors, retain_graph, create_graph, grad_variables, inputs)\u001b[0m\n\u001b[1;32m    192\u001b[0m     retain_graph \u001b[39m=\u001b[39m create_graph\n\u001b[1;32m    194\u001b[0m \u001b[39m# The reason we repeat same the comment below is that\u001b[39;00m\n\u001b[1;32m    195\u001b[0m \u001b[39m# some Python versions print out the first line of a multi-line function\u001b[39;00m\n\u001b[1;32m    196\u001b[0m \u001b[39m# calls in the traceback and some print out the last line\u001b[39;00m\n\u001b[0;32m--> 197\u001b[0m Variable\u001b[39m.\u001b[39;49m_execution_engine\u001b[39m.\u001b[39;49mrun_backward(  \u001b[39m# Calls into the C++ engine to run the backward pass\u001b[39;49;00m\n\u001b[1;32m    198\u001b[0m     tensors, grad_tensors_, retain_graph, create_graph, inputs,\n\u001b[1;32m    199\u001b[0m     allow_unreachable\u001b[39m=\u001b[39;49m\u001b[39mTrue\u001b[39;49;00m, accumulate_grad\u001b[39m=\u001b[39;49m\u001b[39mTrue\u001b[39;49;00m)\n",
      "\u001b[0;31mKeyboardInterrupt\u001b[0m: "
     ]
    }
   ],
   "source": [
    "train_transform = A.Compose(\n",
    "    [\n",
    "        A.Resize(height=img_h, width=img_w),\n",
    "        A.RandomRotate90(),\n",
    "        A.Flip(),\n",
    "        A.Transpose(),\n",
    "        A.OneOf([\n",
    "            A.ElasticTransform(alpha=120, sigma=120 * 0.05, alpha_affine=120 * 0.03),\n",
    "            A.GridDistortion(),\n",
    "            A.OpticalDistortion(distort_limit=2, shift_limit=0.5),\n",
    "        ], p=0.3),\n",
    "        A.Normalize(\n",
    "            mean=[0.0, 0.0, 0.0],\n",
    "            std=[1.0, 1.0, 1.0],\n",
    "            max_pixel_value=255.0,\n",
    "        ),\n",
    "        ToTensorV2(),\n",
    "    ],\n",
    ")\n",
    "\n",
    "val_transforms = A.Compose(\n",
    "    [\n",
    "        A.Resize(height=img_h, width=img_w),\n",
    "        A.Normalize(\n",
    "            mean=[0.0, 0.0, 0.0],\n",
    "            std=[1.0, 1.0, 1.0],\n",
    "            max_pixel_value=255.0,\n",
    "        ),\n",
    "        ToTensorV2(),\n",
    "    ],\n",
    ")\n",
    "\n",
    "\n",
    "#model = UNet(input_channel=3, output_channel=1).to(dev)\n",
    "input_channel = 3\n",
    "output_channel = 1\n",
    "#model = get_pretrained_unet(input_channel, output_channel).to(dev)\n",
    "model = get_pretrained_unetplusplus(input_channel, output_channel).to(dev)\n",
    "\n",
    "# weights = torch.tensor([1, 10], dtype=torch.float32).to(dev)\n",
    "# loss_fn = nn.BCEWithLogitsLoss(pos_weight=weights)\n",
    "\n",
    "from segmentation_models_pytorch.losses import DiceLoss\n",
    "#loss_fn = DiceLoss(mode='binary')\n",
    "#loss_fn = nn.BCEWithLogitsLoss()\n",
    "loss_fn = CombinedLoss(alpha=0.25, gamma=2, focal_weight=0.2, dice_weight=0.8)\n",
    "\n",
    "\n",
    "#optimizer = optim.AdamW(model.parameters(), lr=lr)\n",
    "optimizer = optim.AdamW(model.parameters(), lr=1e-4 ,  weight_decay=1e-5)\n",
    "scheduler = torch.optim.lr_scheduler.ReduceLROnPlateau(optimizer, mode='min', factor=0.1, patience=2, verbose=True)\n",
    "\n",
    "\n",
    "train_loader, val_loader , test_loader= get_loaders(\n",
    "    csv_file=\"/apps/local/shared/HC701/assessment/assignment_3/data/hc701_lits_train.csv\",\n",
    "    base_path=\"/apps/local/shared/HC701/assessment/assignment_3/data/\",\n",
    "    batch_size=8,\n",
    "    train_transform=None,\n",
    "    val_transform=None,\n",
    ")\n",
    "\n",
    "\n",
    "# if LOAD_MODEL:\n",
    "#     load_checkpoint(torch.load(\"my_checkpoint.pth.tar\"), model)\n",
    "\n",
    "\n",
    "#check_accuracy(val_loader, model, device=dev)\n",
    "scaler = torch.cuda.amp.GradScaler()\n",
    "#scheduler = torch.optim.lr_scheduler.StepLR(optimizer, step_size=10, gamma=0.1)\n",
    "for epoch in range(epochs):\n",
    "    print(epoch)\n",
    "    train_fn(train_loader, model, optimizer, loss_fn, scaler)\n",
    "    val_loss = eval_fn(val_loader, model, device=dev, criterion=loss_fn)\n",
    "    scheduler.step(val_loss)\n",
    "\n",
    "    # save model\n",
    "    checkpoint = {\n",
    "        \"state_dict\": model.state_dict(),\n",
    "        \"optimizer\":optimizer.state_dict(),\n",
    "    }\n",
    "    #save_checkpoint(checkpoint)\n",
    "    check_accuracy(val_loader, model, device=dev)\n",
    "    # check accuracy\n",
    "    # print('Train Performance' , check_accuracy(train_loader, model, device=dev))\n",
    "    # print('Val Performance' , check_accuracy(val_loader, model, device=dev))\n",
    "    # print ('Test Performance' , check_accuracy(test_loader, model, device=dev))\n",
    "\n",
    "    # print some examples to a folder\n",
    "save_predictions_as_imgs(val_loader, model, folder=\"saved_images/\", device=dev)"
   ]
  },
  {
   "cell_type": "code",
   "execution_count": 14,
   "id": "43d5fb9a",
   "metadata": {},
   "outputs": [],
   "source": [
    "save_predictions_as_imgs(val_loader, model, folder=\"saved_images/\", device=dev)"
   ]
  },
  {
   "cell_type": "code",
   "execution_count": 16,
   "id": "30b98c35",
   "metadata": {},
   "outputs": [
    {
     "name": "stdout",
     "output_type": "stream",
     "text": [
      "Got 53939751/54198272 with acc 99.52\n",
      "Dice score: 0.4922533333301544\n",
      "Jaccard score: 0.3772498071193695\n",
      "Precision: 0.6656484007835388\n",
      "Recall: 0.4380527436733246\n",
      "F1-score: 0.5283842086791992\n",
      "Mean Hausdorff distance: 3.0613920776508388\n",
      "Val Performance None\n",
      "Got 47897156/48562176 with acc 98.63\n",
      "Dice score: 0.35177478194236755\n",
      "Jaccard score: 0.2671577036380768\n",
      "Precision: 0.6356946229934692\n",
      "Recall: 0.2781559228897095\n",
      "F1-score: 0.38698282837867737\n",
      "Mean Hausdorff distance: 4.826022132369212\n",
      "Test Performance None\n"
     ]
    }
   ],
   "source": [
    "#print('Train Performance' , check_accuracy(train_loader, model, device=dev))\n",
    "print('Val Performance' , check_accuracy(val_loader, model, device=dev))\n",
    "print ('Test Performance' , check_accuracy(test_loader, model, device=dev))\n"
   ]
  },
  {
   "cell_type": "code",
   "execution_count": 17,
   "id": "d6c57a08",
   "metadata": {},
   "outputs": [
    {
     "name": "stdout",
     "output_type": "stream",
     "text": [
      "Got 47897156/48562176 with acc 98.63\n",
      "Dice score: 0.35177478194236755\n",
      "Jaccard score: 0.2671577036380768\n",
      "Precision: 0.6356946229934692\n",
      "Recall: 0.2781559228897095\n",
      "F1-score: 0.38698282837867737\n",
      "Mean Hausdorff distance: 4.826022132369212\n"
     ]
    }
   ],
   "source": [
    " check_accuracy(test_loader, model, device=dev)"
   ]
  },
  {
   "cell_type": "code",
   "execution_count": null,
   "id": "7a2decc6",
   "metadata": {},
   "outputs": [],
   "source": [
    "#Only Liver\n",
    "\n",
    "# Got 634087309/635895808 with acc 99.72\n",
    "# Dice score: 0.978397011756897\n",
    "# Jaccard score: 0.9577668905258179\n",
    "# Precision: 0.979331374168396\n",
    "# Recall: 0.9775193333625793\n",
    "# F1-score: 0.9784245491027832\n",
    "# Mean Hausdorff distance: 2.6984509143702238\n",
    "# Train Performance None\n",
    "\n",
    "# Got 157943585/158990336 with acc 99.34\n",
    "# Dice score: 0.9115058779716492\n",
    "# Jaccard score: 0.8643732666969299\n",
    "# Precision: 0.9210348725318909\n",
    "# Recall: 0.9184235334396362\n",
    "# F1-score: 0.9197274446487427\n",
    "# Mean Hausdorff distance: 3.3960617562368527\n",
    "# Val Performance None\n",
    "\n",
    "# Got 77909008/78643200 with acc 99.07\n",
    "# Dice score: 0.9234818816184998\n",
    "# Jaccard score: 0.8717976808547974\n",
    "# Precision: 0.9464868307113647\n",
    "# Recall: 0.9146184325218201\n",
    "# F1-score: 0.9302798509597778\n",
    "# Mean Hausdorff distance: 3.8074717452253646\n",
    "# Test Performance None"
   ]
  },
  {
   "cell_type": "code",
   "execution_count": null,
   "id": "5233476d",
   "metadata": {},
   "outputs": [],
   "source": [
    "# Only Tumor\n",
    "\n",
    "# Got 53939751/54198272 with acc 99.52\n",
    "# Dice score: 0.4922533333301544\n",
    "# Jaccard score: 0.3772498071193695\n",
    "# Precision: 0.6656484007835388\n",
    "# Recall: 0.4380527436733246\n",
    "# F1-score: 0.5283842086791992\n",
    "# Mean Hausdorff distance: 3.0613920776508388\n",
    "# Val Performance None\n",
    "\n",
    "# Got 47897156/48562176 with acc 98.63\n",
    "# Dice score: 0.35177478194236755\n",
    "# Jaccard score: 0.2671577036380768\n",
    "# Precision: 0.6356946229934692\n",
    "# Recall: 0.2781559228897095\n",
    "# F1-score: 0.38698282837867737\n",
    "# Mean Hausdorff distance: 4.826022132369212"
   ]
  }
 ],
 "metadata": {
  "interpreter": {
   "hash": "f67998d28f6fc57a183a22e7a0309b9a80aa8713c373b12cd502dd672f9616c8"
  },
  "kernelspec": {
   "display_name": "Python 3 (ipykernel)",
   "language": "python",
   "name": "python3"
  },
  "language_info": {
   "codemirror_mode": {
    "name": "ipython",
    "version": 3
   },
   "file_extension": ".py",
   "mimetype": "text/x-python",
   "name": "python",
   "nbconvert_exporter": "python",
   "pygments_lexer": "ipython3",
   "version": "3.10.9"
  },
  "papermill": {
   "default_parameters": {},
   "duration": 1947.884009,
   "end_time": "2021-04-06T13:23:28.655243",
   "environment_variables": {},
   "exception": null,
   "input_path": "__notebook__.ipynb",
   "output_path": "__notebook__.ipynb",
   "parameters": {},
   "start_time": "2021-04-06T12:51:00.771234",
   "version": "2.3.2"
  }
 },
 "nbformat": 4,
 "nbformat_minor": 5
}
