{
 "cells": [
  {
   "cell_type": "code",
   "execution_count": 1,
   "id": "ac5f6ea6",
   "metadata": {},
   "outputs": [],
   "source": [
    "import numpy as np \n",
    "import pandas as pd\n",
    "import os\n",
    "import matplotlib.pyplot as plt\n",
    "import time\n",
    "import glob\n",
    "import random\n",
    "from tqdm import tqdm\n",
    "from tqdm import trange\n",
    "import torch\n",
    "import torch.nn as nn\n",
    "import torch.optim as optim\n",
    "from torch.optim import lr_scheduler\n",
    "#import wandb\n",
    "#wandb.init(project = \"HC Assignment2\")"
   ]
  },
  {
   "cell_type": "code",
   "execution_count": null,
   "id": "752cecbd",
   "metadata": {},
   "outputs": [],
   "source": [
    "import random, os\n",
    "\n",
    "##Added, Model Reproducibility\n",
    "# Set the random seed to ensure reproducibility\n",
    "seed = 42 \n",
    "# Set the random seed for the Python interpreter\n",
    "random.seed(seed)\n",
    "# Set the random seed for hash values used in Python dictionaries\n",
    "os.environ['PYTHONHASHSEED'] = str(seed)\n",
    "# Set the random seed for NumPy\n",
    "np.random.seed(seed)\n",
    "# Set the random seed for PyTorch on CPU\n",
    "torch.manual_seed(seed)\n",
    "# Set the random seed for PyTorch on GPU (CUDA)\n",
    "torch.cuda.manual_seed(seed)\n",
    "# Set the flag to ensure that the computations on GPU are deterministic\n",
    "torch.backends.cudnn.deterministic = True\n",
    "# Set the flag to disable the automatic selection of the fastest algorithm for GPU computations\n",
    "torch.backends.cudnn.benchmark = False"
   ]
  },
  {
   "cell_type": "code",
   "execution_count": 2,
   "id": "11459dfb",
   "metadata": {},
   "outputs": [
    {
     "name": "stdout",
     "output_type": "stream",
     "text": [
      "filepaths:  4600    labels:  4600\n"
     ]
    }
   ],
   "source": [
    "dirlist = ['TBX11K/imgs/health', 'TBX11K/imgs/tb']\n",
    "classes = ['Healthy', 'tb']\n",
    "filepaths = []\n",
    "labels = []\n",
    "for d, c in zip(dirlist, classes):\n",
    "    flist = os.listdir(d)\n",
    "    for f in flist:\n",
    "        fpath = os.path.join(d, f)\n",
    "        filepaths.append(fpath)\n",
    "        labels.append(c)\n",
    "print ('filepaths: ', len(filepaths), '   labels: ', len(labels))"
   ]
  },
  {
   "cell_type": "code",
   "execution_count": 3,
   "id": "f3fad213",
   "metadata": {},
   "outputs": [
    {
     "name": "stdout",
     "output_type": "stream",
     "text": [
      "Healthy    3800\n",
      "tb          800\n",
      "Name: labels, dtype: int64\n"
     ]
    }
   ],
   "source": [
    "Fseries=pd.Series(filepaths, name='file_paths')\n",
    "Lseries=pd.Series(labels, name='labels')\n",
    "df=pd.concat([Fseries,Lseries], axis=1)\n",
    "df=pd.DataFrame(np.array(df).reshape(4600,2), columns = ['file_paths', 'labels'])\n",
    "print(df['labels'].value_counts())"
   ]
  },
  {
   "cell_type": "code",
   "execution_count": 4,
   "id": "14b71303",
   "metadata": {},
   "outputs": [],
   "source": [
    "h_df = df[df['labels'] == 'Healthy']\n",
    "h_df = h_df.sort_values('file_paths')\n",
    "\n",
    "tb_df = df[df['labels'] == 'tb']\n",
    "tb_df = tb_df.sort_values('file_paths')"
   ]
  },
  {
   "cell_type": "code",
   "execution_count": 7,
   "id": "7eff7f0c",
   "metadata": {},
   "outputs": [
    {
     "data": {
      "text/html": [
       "<div>\n",
       "<style scoped>\n",
       "    .dataframe tbody tr th:only-of-type {\n",
       "        vertical-align: middle;\n",
       "    }\n",
       "\n",
       "    .dataframe tbody tr th {\n",
       "        vertical-align: top;\n",
       "    }\n",
       "\n",
       "    .dataframe thead th {\n",
       "        text-align: right;\n",
       "    }\n",
       "</style>\n",
       "<table border=\"1\" class=\"dataframe\">\n",
       "  <thead>\n",
       "    <tr style=\"text-align: right;\">\n",
       "      <th></th>\n",
       "      <th>file_paths</th>\n",
       "      <th>labels</th>\n",
       "    </tr>\n",
       "  </thead>\n",
       "  <tbody>\n",
       "    <tr>\n",
       "      <th>3800</th>\n",
       "      <td>TBX11K/imgs/tb\\tb0003.png</td>\n",
       "      <td>tb</td>\n",
       "    </tr>\n",
       "    <tr>\n",
       "      <th>3801</th>\n",
       "      <td>TBX11K/imgs/tb\\tb0004.png</td>\n",
       "      <td>tb</td>\n",
       "    </tr>\n",
       "    <tr>\n",
       "      <th>3802</th>\n",
       "      <td>TBX11K/imgs/tb\\tb0005.png</td>\n",
       "      <td>tb</td>\n",
       "    </tr>\n",
       "    <tr>\n",
       "      <th>3803</th>\n",
       "      <td>TBX11K/imgs/tb\\tb0006.png</td>\n",
       "      <td>tb</td>\n",
       "    </tr>\n",
       "    <tr>\n",
       "      <th>3804</th>\n",
       "      <td>TBX11K/imgs/tb\\tb0007.png</td>\n",
       "      <td>tb</td>\n",
       "    </tr>\n",
       "    <tr>\n",
       "      <th>3805</th>\n",
       "      <td>TBX11K/imgs/tb\\tb0009.png</td>\n",
       "      <td>tb</td>\n",
       "    </tr>\n",
       "    <tr>\n",
       "      <th>3806</th>\n",
       "      <td>TBX11K/imgs/tb\\tb0012.png</td>\n",
       "      <td>tb</td>\n",
       "    </tr>\n",
       "    <tr>\n",
       "      <th>3807</th>\n",
       "      <td>TBX11K/imgs/tb\\tb0014.png</td>\n",
       "      <td>tb</td>\n",
       "    </tr>\n",
       "    <tr>\n",
       "      <th>3808</th>\n",
       "      <td>TBX11K/imgs/tb\\tb0015.png</td>\n",
       "      <td>tb</td>\n",
       "    </tr>\n",
       "    <tr>\n",
       "      <th>3809</th>\n",
       "      <td>TBX11K/imgs/tb\\tb0017.png</td>\n",
       "      <td>tb</td>\n",
       "    </tr>\n",
       "  </tbody>\n",
       "</table>\n",
       "</div>"
      ],
      "text/plain": [
       "                     file_paths labels\n",
       "3800  TBX11K/imgs/tb\\tb0003.png     tb\n",
       "3801  TBX11K/imgs/tb\\tb0004.png     tb\n",
       "3802  TBX11K/imgs/tb\\tb0005.png     tb\n",
       "3803  TBX11K/imgs/tb\\tb0006.png     tb\n",
       "3804  TBX11K/imgs/tb\\tb0007.png     tb\n",
       "3805  TBX11K/imgs/tb\\tb0009.png     tb\n",
       "3806  TBX11K/imgs/tb\\tb0012.png     tb\n",
       "3807  TBX11K/imgs/tb\\tb0014.png     tb\n",
       "3808  TBX11K/imgs/tb\\tb0015.png     tb\n",
       "3809  TBX11K/imgs/tb\\tb0017.png     tb"
      ]
     },
     "execution_count": 7,
     "metadata": {},
     "output_type": "execute_result"
    }
   ],
   "source": [
    "tb_df.head(10)"
   ]
  },
  {
   "cell_type": "code",
   "execution_count": 12,
   "id": "9c590b8d",
   "metadata": {},
   "outputs": [],
   "source": [
    "h_indix = int ( len(h_df.index) * 0.2)\n",
    "tb_indix  = int ( len(tb_df.index) * 0.2)"
   ]
  },
  {
   "cell_type": "code",
   "execution_count": 13,
   "id": "562a2a7d",
   "metadata": {},
   "outputs": [],
   "source": [
    "h_test = h_df.iloc[0:h_indix]\n",
    "h_train =  h_df.iloc[h_indix  :]\n",
    "\n",
    "tb_test = tb_df.iloc[0:tb_indix]\n",
    "tb_train =  tb_df.iloc[tb_indix  :]"
   ]
  },
  {
   "cell_type": "code",
   "execution_count": 21,
   "id": "92b79c5a",
   "metadata": {},
   "outputs": [
    {
     "data": {
      "text/html": [
       "<div>\n",
       "<style scoped>\n",
       "    .dataframe tbody tr th:only-of-type {\n",
       "        vertical-align: middle;\n",
       "    }\n",
       "\n",
       "    .dataframe tbody tr th {\n",
       "        vertical-align: top;\n",
       "    }\n",
       "\n",
       "    .dataframe thead th {\n",
       "        text-align: right;\n",
       "    }\n",
       "</style>\n",
       "<table border=\"1\" class=\"dataframe\">\n",
       "  <thead>\n",
       "    <tr style=\"text-align: right;\">\n",
       "      <th></th>\n",
       "      <th>file_paths</th>\n",
       "      <th>labels</th>\n",
       "    </tr>\n",
       "  </thead>\n",
       "  <tbody>\n",
       "    <tr>\n",
       "      <th>3960</th>\n",
       "      <td>TBX11K/imgs/tb\\tb0250.png</td>\n",
       "      <td>tb</td>\n",
       "    </tr>\n",
       "    <tr>\n",
       "      <th>3961</th>\n",
       "      <td>TBX11K/imgs/tb\\tb0251.png</td>\n",
       "      <td>tb</td>\n",
       "    </tr>\n",
       "    <tr>\n",
       "      <th>3962</th>\n",
       "      <td>TBX11K/imgs/tb\\tb0252.png</td>\n",
       "      <td>tb</td>\n",
       "    </tr>\n",
       "    <tr>\n",
       "      <th>3963</th>\n",
       "      <td>TBX11K/imgs/tb\\tb0253.png</td>\n",
       "      <td>tb</td>\n",
       "    </tr>\n",
       "    <tr>\n",
       "      <th>3964</th>\n",
       "      <td>TBX11K/imgs/tb\\tb0255.png</td>\n",
       "      <td>tb</td>\n",
       "    </tr>\n",
       "    <tr>\n",
       "      <th>...</th>\n",
       "      <td>...</td>\n",
       "      <td>...</td>\n",
       "    </tr>\n",
       "    <tr>\n",
       "      <th>4595</th>\n",
       "      <td>TBX11K/imgs/tb\\tb1192.png</td>\n",
       "      <td>tb</td>\n",
       "    </tr>\n",
       "    <tr>\n",
       "      <th>4596</th>\n",
       "      <td>TBX11K/imgs/tb\\tb1194.png</td>\n",
       "      <td>tb</td>\n",
       "    </tr>\n",
       "    <tr>\n",
       "      <th>4597</th>\n",
       "      <td>TBX11K/imgs/tb\\tb1196.png</td>\n",
       "      <td>tb</td>\n",
       "    </tr>\n",
       "    <tr>\n",
       "      <th>4598</th>\n",
       "      <td>TBX11K/imgs/tb\\tb1197.png</td>\n",
       "      <td>tb</td>\n",
       "    </tr>\n",
       "    <tr>\n",
       "      <th>4599</th>\n",
       "      <td>TBX11K/imgs/tb\\tb1199.png</td>\n",
       "      <td>tb</td>\n",
       "    </tr>\n",
       "  </tbody>\n",
       "</table>\n",
       "<p>640 rows × 2 columns</p>\n",
       "</div>"
      ],
      "text/plain": [
       "                     file_paths labels\n",
       "3960  TBX11K/imgs/tb\\tb0250.png     tb\n",
       "3961  TBX11K/imgs/tb\\tb0251.png     tb\n",
       "3962  TBX11K/imgs/tb\\tb0252.png     tb\n",
       "3963  TBX11K/imgs/tb\\tb0253.png     tb\n",
       "3964  TBX11K/imgs/tb\\tb0255.png     tb\n",
       "...                         ...    ...\n",
       "4595  TBX11K/imgs/tb\\tb1192.png     tb\n",
       "4596  TBX11K/imgs/tb\\tb1194.png     tb\n",
       "4597  TBX11K/imgs/tb\\tb1196.png     tb\n",
       "4598  TBX11K/imgs/tb\\tb1197.png     tb\n",
       "4599  TBX11K/imgs/tb\\tb1199.png     tb\n",
       "\n",
       "[640 rows x 2 columns]"
      ]
     },
     "execution_count": 21,
     "metadata": {},
     "output_type": "execute_result"
    }
   ],
   "source": [
    "tb_train"
   ]
  },
  {
   "cell_type": "code",
   "execution_count": 17,
   "id": "fce00599",
   "metadata": {},
   "outputs": [],
   "source": [
    "train_df = pd.concat([h_train, tb_train])\n",
    "test_df = pd.concat([h_test, tb_test])"
   ]
  },
  {
   "cell_type": "code",
   "execution_count": 8,
   "id": "0bf7066b",
   "metadata": {},
   "outputs": [
    {
     "data": {
      "text/plain": [
       "'TBX11K/imgs/health\\\\h0001.png'"
      ]
     },
     "execution_count": 8,
     "metadata": {},
     "output_type": "execute_result"
    }
   ],
   "source": [
    "train_df['file_paths'].iloc[0]"
   ]
  },
  {
   "cell_type": "code",
   "execution_count": 9,
   "id": "dbd8b07c",
   "metadata": {},
   "outputs": [],
   "source": [
    "X_train = train_df['file_paths']\n",
    "X_test = test_df['file_paths']\n",
    "\n",
    "Y_train = train_df['labels']\n",
    "Y_test = test_df['labels']"
   ]
  },
  {
   "cell_type": "code",
   "execution_count": 10,
   "id": "5ac55442",
   "metadata": {},
   "outputs": [
    {
     "data": {
      "text/plain": [
       "<matplotlib.image.AxesImage at 0x2030495e7f0>"
      ]
     },
     "execution_count": 10,
     "metadata": {},
     "output_type": "execute_result"
    },
    {
     "data": {
      "image/png": "[encoded data removed]",
      "text/plain": [
       "<Figure size 640x480 with 1 Axes>"
      ]
     },
     "metadata": {},
     "output_type": "display_data"
    }
   ],
   "source": [
    "img = df.loc[1,\"file_paths\"]\n",
    "img = plt.imread(img)\n",
    "plt.imshow(img)"
   ]
  },
  {
   "cell_type": "code",
   "execution_count": 11,
   "id": "eea98102",
   "metadata": {},
   "outputs": [
    {
     "name": "stdout",
     "output_type": "stream",
     "text": [
      "0.95686275\n"
     ]
    }
   ],
   "source": [
    "print(img.max())"
   ]
  },
  {
   "cell_type": "code",
   "execution_count": 36,
   "id": "b4cfa798",
   "metadata": {},
   "outputs": [
    {
     "name": "stdout",
     "output_type": "stream",
     "text": [
      "torch.Size([920, 3, 224, 224])\n",
      "torch.Size([920])\n"
     ]
    }
   ],
   "source": [
    "import torch\n",
    "from torchvision import transforms\n",
    "from PIL import Image\n",
    "import pandas as pd\n",
    "from torch.utils.data import TensorDataset, DataLoader\n",
    "\n",
    "# Load the dataframe\n",
    "train_df = train_df\n",
    "\n",
    "# Define the transformations\n",
    "tb_transformations = transforms.Compose([\n",
    "    transforms.RandomHorizontalFlip(p=0.1),\n",
    "    transforms.RandomRotation(degrees=30),\n",
    "    transforms.ColorJitter(brightness=0.2, contrast=0.2, saturation=0.2),\n",
    "    #transforms.CenterCrop((0.8, 0.8)),\n",
    "    transforms.Resize((224, 224)),\n",
    "    transforms.ToTensor(),\n",
    "    transforms.Normalize(mean=[0.485, 0.456, 0.406], std=[0.229, 0.224, 0.225])\n",
    "])\n",
    "\n",
    "\n",
    "# Define the transformations\n",
    "healthy_transformations = transforms.Compose([\n",
    "    #transforms.ColorJitter(brightness=0.2, contrast=0.2, saturation=0.2),\n",
    "    transforms.Resize((224, 224)),\n",
    "    transforms.ToTensor(),\n",
    "    transforms.Normalize(mean=[0.485, 0.456, 0.406], std=[0.229, 0.224, 0.225])\n",
    "])\n",
    "\n",
    "\n",
    "# Load the images and labels\n",
    "images = []\n",
    "labels = []\n",
    "\n",
    "for i in range(len(train_df)):\n",
    "    # Load the image\n",
    "    image = Image.open(train_df['file_paths'].iloc[i])\n",
    "\n",
    "\n",
    "    # Load and convert the label to tensor\n",
    "    label_str = train_df['labels'].iloc[i]\n",
    "    if label_str == 'Healthy':\n",
    "        label = torch.tensor(0)\n",
    "        # Apply the transformations\n",
    "        image = healthy_transformations(image)\n",
    "        # Append the image to the list\n",
    "        images.append(image)\n",
    "        \n",
    "    elif label_str == 'tb':\n",
    "        label = torch.tensor(1)\n",
    "        # Apply the transformations\n",
    "        image = tb_transformations(image)\n",
    "        # Append the image to the list\n",
    "        images.append(image)\n",
    "    else:\n",
    "        label = torch.tensor(-1)  # For unknown labels\n",
    "    labels.append(label)\n",
    "\n",
    "# Convert the images and labels to tensors\n",
    "images = torch.stack(images)\n",
    "labels = torch.stack(labels)\n",
    "\n",
    "print(images.shape)\n",
    "print(labels.shape)\n",
    "\n",
    "dataset = TensorDataset(images, labels)\n",
    "\n",
    "# Create a DataLoader\n",
    "train_dataloader = DataLoader(dataset, batch_size=32, shuffle=True, drop_last=True)"
   ]
  },
  {
   "cell_type": "code",
   "execution_count": 61,
   "id": "3525863a",
   "metadata": {},
   "outputs": [
    {
     "name": "stdout",
     "output_type": "stream",
     "text": [
      "torch.Size([920, 3, 224, 224])\n",
      "torch.Size([920])\n"
     ]
    }
   ],
   "source": [
    "import torch\n",
    "from torchvision import transforms\n",
    "from PIL import Image\n",
    "import pandas as pd\n",
    "from torch.utils.data import TensorDataset, DataLoader\n",
    "\n",
    "# Load the dataframe\n",
    "train_df = test_df\n",
    "\n",
    "\n",
    "# Define the transformations\n",
    "healthy_transformations = transforms.Compose([\n",
    "    transforms.Resize((224, 224)),\n",
    "    transforms.ToTensor(),\n",
    "    transforms.Normalize(mean=[0.485, 0.456, 0.406], std=[0.229, 0.224, 0.225])\n",
    "])\n",
    "\n",
    "# Load the images and labels\n",
    "images = []\n",
    "labels = []\n",
    "\n",
    "for i in range(len(train_df)):\n",
    "    # Load the image\n",
    "    image = Image.open(train_df['file_paths'].iloc[i])\n",
    "\n",
    "    # Load and convert the label to tensor\n",
    "    label_str = train_df['labels'].iloc[i]\n",
    "    if label_str == 'Healthy':\n",
    "        label = torch.tensor(0)\n",
    "        # Apply the transformations\n",
    "        image = healthy_transformations(image)\n",
    "        # Append the image to the list\n",
    "        images.append(image)\n",
    "        \n",
    "    elif label_str == 'tb':\n",
    "        label = torch.tensor(1)\n",
    "        # Apply the transformations\n",
    "        image = healthy_transformations(image)\n",
    "        # Append the image to the list\n",
    "        images.append(image)\n",
    "    else:\n",
    "        label = torch.tensor(-1)  # For unknown labels\n",
    "    labels.append(label)\n",
    "\n",
    "# Convert the images and labels to tensors\n",
    "images = torch.stack(images)\n",
    "labels = torch.stack(labels)\n",
    "\n",
    "print(images.shape)\n",
    "print(labels.shape)\n",
    "\n",
    "dataset = TensorDataset(images, labels)\n",
    "\n",
    "# Create a DataLoader\n",
    "test_dataloader = DataLoader(dataset, batch_size=32, shuffle=True, drop_last=False)"
   ]
  },
  {
   "cell_type": "code",
   "execution_count": 14,
   "id": "355a6646",
   "metadata": {},
   "outputs": [
    {
     "name": "stdout",
     "output_type": "stream",
     "text": [
      "cpu\n"
     ]
    }
   ],
   "source": [
    "device = 'cuda' if torch.cuda.is_available() else 'cpu'\n",
    "print(device)"
   ]
  },
  {
   "cell_type": "code",
   "execution_count": 15,
   "id": "efda37dc",
   "metadata": {},
   "outputs": [],
   "source": [
    "from sklearn.metrics import precision_score, recall_score, f1_score"
   ]
  },
  {
   "cell_type": "code",
   "execution_count": 16,
   "id": "ba29967b",
   "metadata": {},
   "outputs": [],
   "source": [
    "\n",
    "    \n",
    "def calculate_f1_score(targets, preds):\n",
    "    targets = targets.cpu().numpy()\n",
    "    preds = preds.cpu().numpy()\n",
    "    f1_scores = {}\n",
    "    for cls in range(2):\n",
    "        precision = precision_score(targets == cls, preds == cls)\n",
    "        recall = recall_score(targets == cls, preds == cls)\n",
    "        f1 = 2 * precision * recall / (precision + recall)\n",
    "        f1_scores[cls] = {\"precision\": precision, \"recall\": recall, \"f1\": f1}\n",
    "    return f1_scores\n"
   ]
  },
  {
   "cell_type": "code",
   "execution_count": 17,
   "id": "9b387f4e",
   "metadata": {},
   "outputs": [],
   "source": [
    "def train(model):\n",
    "    model.train()\n",
    "    train_loss = 0\n",
    "    total = 0\n",
    "    correct=0\n",
    "    all_preds = []\n",
    "    all_targets = []\n",
    "    with tqdm(train_dataloader, unit=\"batch\") as tepoch:\n",
    "        for batch_idx, (data, target) in enumerate(tepoch):\n",
    "            # send to device\n",
    "            data, target = data.to(device), target.to(device)\n",
    "    \n",
    "            # clear the gradients of all optimized variables\n",
    "            optimizer.zero_grad()\n",
    "            # forward pass: compute predicted outputs by passing inputs to the model\n",
    "            output = model(data)\n",
    "            # calculate the loss\n",
    "            loss = criterion(output, target)\n",
    "            # backward pass: compute gradient of the loss with respect to model parameters\n",
    "            loss.backward()\n",
    "            # perform a single optimization step (parameter update)\n",
    "            optimizer.step()\n",
    "            # update running training loss\n",
    "            train_loss += loss.item()*data.size(0)\n",
    "            _, predicted = output.max(1)\n",
    "            total += target.size(0)\n",
    "            correct += predicted.eq(target).sum().item()\n",
    "            all_preds.append(predicted)\n",
    "            all_targets.append(target)\n",
    "\n",
    "            #wandb.log({'training_loss':train_loss/(batch_idx+1) , 'training_accuracy' :  100.*correct/total}, step=epoch)\n",
    "        \n",
    "        all_preds = torch.cat(all_preds)\n",
    "        all_targets = torch.cat(all_targets)\n",
    "        f1_scores = calculate_f1_score(all_targets, all_preds)\n",
    "        for cls, score_dict in f1_scores.items():\n",
    "            print(\"F1 score for class {}: {:.4f}\".format(cls, score_dict['f1']))\n",
    "        \n",
    "        print(' train loss: {:.4f} accuracy: {:.4f}'.format(train_loss/(batch_idx+1), 100.*correct/total))\n"
   ]
  },
  {
   "cell_type": "code",
   "execution_count": 18,
   "id": "dd13e8d5",
   "metadata": {},
   "outputs": [],
   "source": [
    "def validate(model):   \n",
    "    model.eval()\n",
    "\n",
    "    test_loss = 0\n",
    "    correct = 0\n",
    "    total = 0\n",
    "    all_preds = []\n",
    "    all_targets = []\n",
    "    with tqdm(test_dataloader, unit=\"batch\") as tepoch:\n",
    "        for batch_idx, (data, target) in enumerate(tepoch):\n",
    "            # send to device\n",
    "            data, target = data.to(device), target.to(device)\n",
    "    \n",
    "            output = model(data)\n",
    "            loss = nn.CrossEntropyLoss()(output, target)\n",
    "            test_loss += loss.item()\n",
    "            _, predicted = output.max(1)\n",
    "            total += target.size(0)\n",
    "            correct += predicted.eq(target).sum().item()\n",
    "            all_preds.append(predicted)\n",
    "            all_targets.append(target)\n",
    "            #wandb.log({'test_loss':test_loss/(batch_idx+1) , 'test_accuracy' :  100.*correct/total}, step=epoch) \n",
    "        all_preds = torch.cat(all_preds)\n",
    "        all_targets = torch.cat(all_targets)\n",
    "        f1_scores = calculate_f1_score(all_targets, all_preds)\n",
    "        for cls, score_dict in f1_scores.items():\n",
    "            print(\"F1 score for class {}: {:.4f}\".format(cls, score_dict['f1']))\n",
    "\n",
    "        print(' test loss: {:.4f} accuracy: {:.4f}'.format(test_loss/(batch_idx+1), 100.*correct/total))"
   ]
  },
  {
   "cell_type": "code",
   "execution_count": 39,
   "id": "0c922378",
   "metadata": {},
   "outputs": [],
   "source": [
    "import timm\n",
    "#efficientnet_lite0\n",
    "model = timm.create_model('efficientnet_lite0', num_classes=2, drop_rate = 0.7 pretrained=True)"
   ]
  },
  {
   "cell_type": "code",
   "execution_count": 40,
   "id": "43a47176",
   "metadata": {},
   "outputs": [
    {
     "data": {
      "text/plain": [
       "3373570"
      ]
     },
     "execution_count": 40,
     "metadata": {},
     "output_type": "execute_result"
    }
   ],
   "source": [
    "sum(p.numel() for p in  model.parameters())"
   ]
  },
  {
   "cell_type": "code",
   "execution_count": 41,
   "id": "03708ca1",
   "metadata": {},
   "outputs": [
    {
     "name": "stdout",
     "output_type": "stream",
     "text": [
      "Requirement already satisfied: pip in c:\\users\\ahmed\\anaconda3\\lib\\site-packages (22.3.1)\n",
      "Requirement already satisfied: install in c:\\users\\ahmed\\anaconda3\\lib\\site-packages (1.3.5)\n",
      "Requirement already satisfied: ptflops in c:\\users\\ahmed\\anaconda3\\lib\\site-packages (0.6.9)\n",
      "Requirement already satisfied: torch in c:\\users\\ahmed\\anaconda3\\lib\\site-packages (from ptflops) (1.13.1)\n",
      "Requirement already satisfied: typing_extensions in c:\\users\\ahmed\\anaconda3\\lib\\site-packages (from torch->ptflops) (4.4.0)\n"
     ]
    }
   ],
   "source": [
    "!pip install pip install ptflops\n",
    "!pip install thop"
   ]
  },
  {
   "cell_type": "code",
   "execution_count": 42,
   "id": "8d104f37",
   "metadata": {},
   "outputs": [
    {
     "name": "stdout",
     "output_type": "stream",
     "text": [
      "Number of FLOPs: 390.13 MMac\n",
      "Number of parameters: 3.37 M\n"
     ]
    }
   ],
   "source": [
    "import torch\n",
    "import torchvision.models as models\n",
    "from ptflops import get_model_complexity_info\n",
    "\n",
    "\n",
    "# Specify the input tensor shape\n",
    "input_shape = ( 3, 224, 224)\n",
    "\n",
    "# Count the number of FLOPs for the model\n",
    "flops_count, params_count = get_model_complexity_info(model, input_shape, print_per_layer_stat=False)\n",
    "\n",
    "# Print the number of FLOPs and parameters for the model\n",
    "print(f\"Number of FLOPs: {flops_count}\")\n",
    "print(f\"Number of parameters: {params_count}\")\n"
   ]
  },
  {
   "cell_type": "code",
   "execution_count": 57,
   "id": "dd5445b0",
   "metadata": {},
   "outputs": [
    {
     "name": "stdout",
     "output_type": "stream",
     "text": [
      "[INFO] Register count_convNd() for <class 'torch.nn.modules.conv.Conv2d'>.\n",
      "[INFO] Register zero_ops() for <class 'torch.nn.modules.activation.ReLU6'>.\n",
      "[INFO] Register zero_ops() for <class 'torch.nn.modules.container.Sequential'>.\n",
      "[INFO] Register count_adap_avgpool() for <class 'torch.nn.modules.pooling.AdaptiveAvgPool2d'>.\n",
      "[INFO] Register count_linear() for <class 'torch.nn.modules.linear.Linear'>.\n",
      "FLOPs: 353256183040.0\n"
     ]
    }
   ],
   "source": [
    "import torch\n",
    "from thop import profile\n",
    "\n",
    "model = model\n",
    "#input_shape = (1, 3, 224, 224)\n",
    "#input = torch.randn(*input_shape)\n",
    "input = images\n",
    "\n",
    "flops, params = profile(model, inputs=(input, ))\n",
    "print(f\"FLOPs: {flops}\")\n"
   ]
  },
  {
   "cell_type": "code",
   "execution_count": 24,
   "id": "1fa0a600",
   "metadata": {},
   "outputs": [
    {
     "data": {
      "text/plain": [
       "EfficientNet(\n",
       "  (conv_stem): Conv2d(3, 32, kernel_size=(3, 3), stride=(2, 2), padding=(1, 1), bias=False)\n",
       "  (bn1): BatchNormAct2d(\n",
       "    32, eps=1e-05, momentum=0.1, affine=True, track_running_stats=True\n",
       "    (drop): Identity()\n",
       "    (act): ReLU6(inplace=True)\n",
       "  )\n",
       "  (blocks): Sequential(\n",
       "    (0): Sequential(\n",
       "      (0): DepthwiseSeparableConv(\n",
       "        (conv_dw): Conv2d(32, 32, kernel_size=(3, 3), stride=(1, 1), padding=(1, 1), groups=32, bias=False)\n",
       "        (bn1): BatchNormAct2d(\n",
       "          32, eps=1e-05, momentum=0.1, affine=True, track_running_stats=True\n",
       "          (drop): Identity()\n",
       "          (act): ReLU6(inplace=True)\n",
       "        )\n",
       "        (se): Identity()\n",
       "        (conv_pw): Conv2d(32, 16, kernel_size=(1, 1), stride=(1, 1), bias=False)\n",
       "        (bn2): BatchNormAct2d(\n",
       "          16, eps=1e-05, momentum=0.1, affine=True, track_running_stats=True\n",
       "          (drop): Identity()\n",
       "          (act): Identity()\n",
       "        )\n",
       "        (drop_path): Identity()\n",
       "      )\n",
       "    )\n",
       "    (1): Sequential(\n",
       "      (0): InvertedResidual(\n",
       "        (conv_pw): Conv2d(16, 96, kernel_size=(1, 1), stride=(1, 1), bias=False)\n",
       "        (bn1): BatchNormAct2d(\n",
       "          96, eps=1e-05, momentum=0.1, affine=True, track_running_stats=True\n",
       "          (drop): Identity()\n",
       "          (act): ReLU6(inplace=True)\n",
       "        )\n",
       "        (conv_dw): Conv2d(96, 96, kernel_size=(3, 3), stride=(2, 2), padding=(1, 1), groups=96, bias=False)\n",
       "        (bn2): BatchNormAct2d(\n",
       "          96, eps=1e-05, momentum=0.1, affine=True, track_running_stats=True\n",
       "          (drop): Identity()\n",
       "          (act): ReLU6(inplace=True)\n",
       "        )\n",
       "        (se): Identity()\n",
       "        (conv_pwl): Conv2d(96, 24, kernel_size=(1, 1), stride=(1, 1), bias=False)\n",
       "        (bn3): BatchNormAct2d(\n",
       "          24, eps=1e-05, momentum=0.1, affine=True, track_running_stats=True\n",
       "          (drop): Identity()\n",
       "          (act): Identity()\n",
       "        )\n",
       "        (drop_path): Identity()\n",
       "      )\n",
       "      (1): InvertedResidual(\n",
       "        (conv_pw): Conv2d(24, 144, kernel_size=(1, 1), stride=(1, 1), bias=False)\n",
       "        (bn1): BatchNormAct2d(\n",
       "          144, eps=1e-05, momentum=0.1, affine=True, track_running_stats=True\n",
       "          (drop): Identity()\n",
       "          (act): ReLU6(inplace=True)\n",
       "        )\n",
       "        (conv_dw): Conv2d(144, 144, kernel_size=(3, 3), stride=(1, 1), padding=(1, 1), groups=144, bias=False)\n",
       "        (bn2): BatchNormAct2d(\n",
       "          144, eps=1e-05, momentum=0.1, affine=True, track_running_stats=True\n",
       "          (drop): Identity()\n",
       "          (act): ReLU6(inplace=True)\n",
       "        )\n",
       "        (se): Identity()\n",
       "        (conv_pwl): Conv2d(144, 24, kernel_size=(1, 1), stride=(1, 1), bias=False)\n",
       "        (bn3): BatchNormAct2d(\n",
       "          24, eps=1e-05, momentum=0.1, affine=True, track_running_stats=True\n",
       "          (drop): Identity()\n",
       "          (act): Identity()\n",
       "        )\n",
       "        (drop_path): Identity()\n",
       "      )\n",
       "    )\n",
       "    (2): Sequential(\n",
       "      (0): InvertedResidual(\n",
       "        (conv_pw): Conv2d(24, 144, kernel_size=(1, 1), stride=(1, 1), bias=False)\n",
       "        (bn1): BatchNormAct2d(\n",
       "          144, eps=1e-05, momentum=0.1, affine=True, track_running_stats=True\n",
       "          (drop): Identity()\n",
       "          (act): ReLU6(inplace=True)\n",
       "        )\n",
       "        (conv_dw): Conv2d(144, 144, kernel_size=(5, 5), stride=(2, 2), padding=(2, 2), groups=144, bias=False)\n",
       "        (bn2): BatchNormAct2d(\n",
       "          144, eps=1e-05, momentum=0.1, affine=True, track_running_stats=True\n",
       "          (drop): Identity()\n",
       "          (act): ReLU6(inplace=True)\n",
       "        )\n",
       "        (se): Identity()\n",
       "        (conv_pwl): Conv2d(144, 40, kernel_size=(1, 1), stride=(1, 1), bias=False)\n",
       "        (bn3): BatchNormAct2d(\n",
       "          40, eps=1e-05, momentum=0.1, affine=True, track_running_stats=True\n",
       "          (drop): Identity()\n",
       "          (act): Identity()\n",
       "        )\n",
       "        (drop_path): Identity()\n",
       "      )\n",
       "      (1): InvertedResidual(\n",
       "        (conv_pw): Conv2d(40, 240, kernel_size=(1, 1), stride=(1, 1), bias=False)\n",
       "        (bn1): BatchNormAct2d(\n",
       "          240, eps=1e-05, momentum=0.1, affine=True, track_running_stats=True\n",
       "          (drop): Identity()\n",
       "          (act): ReLU6(inplace=True)\n",
       "        )\n",
       "        (conv_dw): Conv2d(240, 240, kernel_size=(5, 5), stride=(1, 1), padding=(2, 2), groups=240, bias=False)\n",
       "        (bn2): BatchNormAct2d(\n",
       "          240, eps=1e-05, momentum=0.1, affine=True, track_running_stats=True\n",
       "          (drop): Identity()\n",
       "          (act): ReLU6(inplace=True)\n",
       "        )\n",
       "        (se): Identity()\n",
       "        (conv_pwl): Conv2d(240, 40, kernel_size=(1, 1), stride=(1, 1), bias=False)\n",
       "        (bn3): BatchNormAct2d(\n",
       "          40, eps=1e-05, momentum=0.1, affine=True, track_running_stats=True\n",
       "          (drop): Identity()\n",
       "          (act): Identity()\n",
       "        )\n",
       "        (drop_path): Identity()\n",
       "      )\n",
       "    )\n",
       "    (3): Sequential(\n",
       "      (0): InvertedResidual(\n",
       "        (conv_pw): Conv2d(40, 240, kernel_size=(1, 1), stride=(1, 1), bias=False)\n",
       "        (bn1): BatchNormAct2d(\n",
       "          240, eps=1e-05, momentum=0.1, affine=True, track_running_stats=True\n",
       "          (drop): Identity()\n",
       "          (act): ReLU6(inplace=True)\n",
       "        )\n",
       "        (conv_dw): Conv2d(240, 240, kernel_size=(3, 3), stride=(2, 2), padding=(1, 1), groups=240, bias=False)\n",
       "        (bn2): BatchNormAct2d(\n",
       "          240, eps=1e-05, momentum=0.1, affine=True, track_running_stats=True\n",
       "          (drop): Identity()\n",
       "          (act): ReLU6(inplace=True)\n",
       "        )\n",
       "        (se): Identity()\n",
       "        (conv_pwl): Conv2d(240, 80, kernel_size=(1, 1), stride=(1, 1), bias=False)\n",
       "        (bn3): BatchNormAct2d(\n",
       "          80, eps=1e-05, momentum=0.1, affine=True, track_running_stats=True\n",
       "          (drop): Identity()\n",
       "          (act): Identity()\n",
       "        )\n",
       "        (drop_path): Identity()\n",
       "      )\n",
       "      (1): InvertedResidual(\n",
       "        (conv_pw): Conv2d(80, 480, kernel_size=(1, 1), stride=(1, 1), bias=False)\n",
       "        (bn1): BatchNormAct2d(\n",
       "          480, eps=1e-05, momentum=0.1, affine=True, track_running_stats=True\n",
       "          (drop): Identity()\n",
       "          (act): ReLU6(inplace=True)\n",
       "        )\n",
       "        (conv_dw): Conv2d(480, 480, kernel_size=(3, 3), stride=(1, 1), padding=(1, 1), groups=480, bias=False)\n",
       "        (bn2): BatchNormAct2d(\n",
       "          480, eps=1e-05, momentum=0.1, affine=True, track_running_stats=True\n",
       "          (drop): Identity()\n",
       "          (act): ReLU6(inplace=True)\n",
       "        )\n",
       "        (se): Identity()\n",
       "        (conv_pwl): Conv2d(480, 80, kernel_size=(1, 1), stride=(1, 1), bias=False)\n",
       "        (bn3): BatchNormAct2d(\n",
       "          80, eps=1e-05, momentum=0.1, affine=True, track_running_stats=True\n",
       "          (drop): Identity()\n",
       "          (act): Identity()\n",
       "        )\n",
       "        (drop_path): Identity()\n",
       "      )\n",
       "      (2): InvertedResidual(\n",
       "        (conv_pw): Conv2d(80, 480, kernel_size=(1, 1), stride=(1, 1), bias=False)\n",
       "        (bn1): BatchNormAct2d(\n",
       "          480, eps=1e-05, momentum=0.1, affine=True, track_running_stats=True\n",
       "          (drop): Identity()\n",
       "          (act): ReLU6(inplace=True)\n",
       "        )\n",
       "        (conv_dw): Conv2d(480, 480, kernel_size=(3, 3), stride=(1, 1), padding=(1, 1), groups=480, bias=False)\n",
       "        (bn2): BatchNormAct2d(\n",
       "          480, eps=1e-05, momentum=0.1, affine=True, track_running_stats=True\n",
       "          (drop): Identity()\n",
       "          (act): ReLU6(inplace=True)\n",
       "        )\n",
       "        (se): Identity()\n",
       "        (conv_pwl): Conv2d(480, 80, kernel_size=(1, 1), stride=(1, 1), bias=False)\n",
       "        (bn3): BatchNormAct2d(\n",
       "          80, eps=1e-05, momentum=0.1, affine=True, track_running_stats=True\n",
       "          (drop): Identity()\n",
       "          (act): Identity()\n",
       "        )\n",
       "        (drop_path): Identity()\n",
       "      )\n",
       "    )\n",
       "    (4): Sequential(\n",
       "      (0): InvertedResidual(\n",
       "        (conv_pw): Conv2d(80, 480, kernel_size=(1, 1), stride=(1, 1), bias=False)\n",
       "        (bn1): BatchNormAct2d(\n",
       "          480, eps=1e-05, momentum=0.1, affine=True, track_running_stats=True\n",
       "          (drop): Identity()\n",
       "          (act): ReLU6(inplace=True)\n",
       "        )\n",
       "        (conv_dw): Conv2d(480, 480, kernel_size=(5, 5), stride=(1, 1), padding=(2, 2), groups=480, bias=False)\n",
       "        (bn2): BatchNormAct2d(\n",
       "          480, eps=1e-05, momentum=0.1, affine=True, track_running_stats=True\n",
       "          (drop): Identity()\n",
       "          (act): ReLU6(inplace=True)\n",
       "        )\n",
       "        (se): Identity()\n",
       "        (conv_pwl): Conv2d(480, 112, kernel_size=(1, 1), stride=(1, 1), bias=False)\n",
       "        (bn3): BatchNormAct2d(\n",
       "          112, eps=1e-05, momentum=0.1, affine=True, track_running_stats=True\n",
       "          (drop): Identity()\n",
       "          (act): Identity()\n",
       "        )\n",
       "        (drop_path): Identity()\n",
       "      )\n",
       "      (1): InvertedResidual(\n",
       "        (conv_pw): Conv2d(112, 672, kernel_size=(1, 1), stride=(1, 1), bias=False)\n",
       "        (bn1): BatchNormAct2d(\n",
       "          672, eps=1e-05, momentum=0.1, affine=True, track_running_stats=True\n",
       "          (drop): Identity()\n",
       "          (act): ReLU6(inplace=True)\n",
       "        )\n",
       "        (conv_dw): Conv2d(672, 672, kernel_size=(5, 5), stride=(1, 1), padding=(2, 2), groups=672, bias=False)\n",
       "        (bn2): BatchNormAct2d(\n",
       "          672, eps=1e-05, momentum=0.1, affine=True, track_running_stats=True\n",
       "          (drop): Identity()\n",
       "          (act): ReLU6(inplace=True)\n",
       "        )\n",
       "        (se): Identity()\n",
       "        (conv_pwl): Conv2d(672, 112, kernel_size=(1, 1), stride=(1, 1), bias=False)\n",
       "        (bn3): BatchNormAct2d(\n",
       "          112, eps=1e-05, momentum=0.1, affine=True, track_running_stats=True\n",
       "          (drop): Identity()\n",
       "          (act): Identity()\n",
       "        )\n",
       "        (drop_path): Identity()\n",
       "      )\n",
       "      (2): InvertedResidual(\n",
       "        (conv_pw): Conv2d(112, 672, kernel_size=(1, 1), stride=(1, 1), bias=False)\n",
       "        (bn1): BatchNormAct2d(\n",
       "          672, eps=1e-05, momentum=0.1, affine=True, track_running_stats=True\n",
       "          (drop): Identity()\n",
       "          (act): ReLU6(inplace=True)\n",
       "        )\n",
       "        (conv_dw): Conv2d(672, 672, kernel_size=(5, 5), stride=(1, 1), padding=(2, 2), groups=672, bias=False)\n",
       "        (bn2): BatchNormAct2d(\n",
       "          672, eps=1e-05, momentum=0.1, affine=True, track_running_stats=True\n",
       "          (drop): Identity()\n",
       "          (act): ReLU6(inplace=True)\n",
       "        )\n",
       "        (se): Identity()\n",
       "        (conv_pwl): Conv2d(672, 112, kernel_size=(1, 1), stride=(1, 1), bias=False)\n",
       "        (bn3): BatchNormAct2d(\n",
       "          112, eps=1e-05, momentum=0.1, affine=True, track_running_stats=True\n",
       "          (drop): Identity()\n",
       "          (act): Identity()\n",
       "        )\n",
       "        (drop_path): Identity()\n",
       "      )\n",
       "    )\n",
       "    (5): Sequential(\n",
       "      (0): InvertedResidual(\n",
       "        (conv_pw): Conv2d(112, 672, kernel_size=(1, 1), stride=(1, 1), bias=False)\n",
       "        (bn1): BatchNormAct2d(\n",
       "          672, eps=1e-05, momentum=0.1, affine=True, track_running_stats=True\n",
       "          (drop): Identity()\n",
       "          (act): ReLU6(inplace=True)\n",
       "        )\n",
       "        (conv_dw): Conv2d(672, 672, kernel_size=(5, 5), stride=(2, 2), padding=(2, 2), groups=672, bias=False)\n",
       "        (bn2): BatchNormAct2d(\n",
       "          672, eps=1e-05, momentum=0.1, affine=True, track_running_stats=True\n",
       "          (drop): Identity()\n",
       "          (act): ReLU6(inplace=True)\n",
       "        )\n",
       "        (se): Identity()\n",
       "        (conv_pwl): Conv2d(672, 192, kernel_size=(1, 1), stride=(1, 1), bias=False)\n",
       "        (bn3): BatchNormAct2d(\n",
       "          192, eps=1e-05, momentum=0.1, affine=True, track_running_stats=True\n",
       "          (drop): Identity()\n",
       "          (act): Identity()\n",
       "        )\n",
       "        (drop_path): Identity()\n",
       "      )\n",
       "      (1): InvertedResidual(\n",
       "        (conv_pw): Conv2d(192, 1152, kernel_size=(1, 1), stride=(1, 1), bias=False)\n",
       "        (bn1): BatchNormAct2d(\n",
       "          1152, eps=1e-05, momentum=0.1, affine=True, track_running_stats=True\n",
       "          (drop): Identity()\n",
       "          (act): ReLU6(inplace=True)\n",
       "        )\n",
       "        (conv_dw): Conv2d(1152, 1152, kernel_size=(5, 5), stride=(1, 1), padding=(2, 2), groups=1152, bias=False)\n",
       "        (bn2): BatchNormAct2d(\n",
       "          1152, eps=1e-05, momentum=0.1, affine=True, track_running_stats=True\n",
       "          (drop): Identity()\n",
       "          (act): ReLU6(inplace=True)\n",
       "        )\n",
       "        (se): Identity()\n",
       "        (conv_pwl): Conv2d(1152, 192, kernel_size=(1, 1), stride=(1, 1), bias=False)\n",
       "        (bn3): BatchNormAct2d(\n",
       "          192, eps=1e-05, momentum=0.1, affine=True, track_running_stats=True\n",
       "          (drop): Identity()\n",
       "          (act): Identity()\n",
       "        )\n",
       "        (drop_path): Identity()\n",
       "      )\n",
       "      (2): InvertedResidual(\n",
       "        (conv_pw): Conv2d(192, 1152, kernel_size=(1, 1), stride=(1, 1), bias=False)\n",
       "        (bn1): BatchNormAct2d(\n",
       "          1152, eps=1e-05, momentum=0.1, affine=True, track_running_stats=True\n",
       "          (drop): Identity()\n",
       "          (act): ReLU6(inplace=True)\n",
       "        )\n",
       "        (conv_dw): Conv2d(1152, 1152, kernel_size=(5, 5), stride=(1, 1), padding=(2, 2), groups=1152, bias=False)\n",
       "        (bn2): BatchNormAct2d(\n",
       "          1152, eps=1e-05, momentum=0.1, affine=True, track_running_stats=True\n",
       "          (drop): Identity()\n",
       "          (act): ReLU6(inplace=True)\n",
       "        )\n",
       "        (se): Identity()\n",
       "        (conv_pwl): Conv2d(1152, 192, kernel_size=(1, 1), stride=(1, 1), bias=False)\n",
       "        (bn3): BatchNormAct2d(\n",
       "          192, eps=1e-05, momentum=0.1, affine=True, track_running_stats=True\n",
       "          (drop): Identity()\n",
       "          (act): Identity()\n",
       "        )\n",
       "        (drop_path): Identity()\n",
       "      )\n",
       "      (3): InvertedResidual(\n",
       "        (conv_pw): Conv2d(192, 1152, kernel_size=(1, 1), stride=(1, 1), bias=False)\n",
       "        (bn1): BatchNormAct2d(\n",
       "          1152, eps=1e-05, momentum=0.1, affine=True, track_running_stats=True\n",
       "          (drop): Identity()\n",
       "          (act): ReLU6(inplace=True)\n",
       "        )\n",
       "        (conv_dw): Conv2d(1152, 1152, kernel_size=(5, 5), stride=(1, 1), padding=(2, 2), groups=1152, bias=False)\n",
       "        (bn2): BatchNormAct2d(\n",
       "          1152, eps=1e-05, momentum=0.1, affine=True, track_running_stats=True\n",
       "          (drop): Identity()\n",
       "          (act): ReLU6(inplace=True)\n",
       "        )\n",
       "        (se): Identity()\n",
       "        (conv_pwl): Conv2d(1152, 192, kernel_size=(1, 1), stride=(1, 1), bias=False)\n",
       "        (bn3): BatchNormAct2d(\n",
       "          192, eps=1e-05, momentum=0.1, affine=True, track_running_stats=True\n",
       "          (drop): Identity()\n",
       "          (act): Identity()\n",
       "        )\n",
       "        (drop_path): Identity()\n",
       "      )\n",
       "    )\n",
       "    (6): Sequential(\n",
       "      (0): InvertedResidual(\n",
       "        (conv_pw): Conv2d(192, 1152, kernel_size=(1, 1), stride=(1, 1), bias=False)\n",
       "        (bn1): BatchNormAct2d(\n",
       "          1152, eps=1e-05, momentum=0.1, affine=True, track_running_stats=True\n",
       "          (drop): Identity()\n",
       "          (act): ReLU6(inplace=True)\n",
       "        )\n",
       "        (conv_dw): Conv2d(1152, 1152, kernel_size=(3, 3), stride=(1, 1), padding=(1, 1), groups=1152, bias=False)\n",
       "        (bn2): BatchNormAct2d(\n",
       "          1152, eps=1e-05, momentum=0.1, affine=True, track_running_stats=True\n",
       "          (drop): Identity()\n",
       "          (act): ReLU6(inplace=True)\n",
       "        )\n",
       "        (se): Identity()\n",
       "        (conv_pwl): Conv2d(1152, 320, kernel_size=(1, 1), stride=(1, 1), bias=False)\n",
       "        (bn3): BatchNormAct2d(\n",
       "          320, eps=1e-05, momentum=0.1, affine=True, track_running_stats=True\n",
       "          (drop): Identity()\n",
       "          (act): Identity()\n",
       "        )\n",
       "        (drop_path): Identity()\n",
       "      )\n",
       "    )\n",
       "  )\n",
       "  (conv_head): Conv2d(320, 1280, kernel_size=(1, 1), stride=(1, 1), bias=False)\n",
       "  (bn2): BatchNormAct2d(\n",
       "    1280, eps=1e-05, momentum=0.1, affine=True, track_running_stats=True\n",
       "    (drop): Identity()\n",
       "    (act): ReLU6(inplace=True)\n",
       "  )\n",
       "  (global_pool): SelectAdaptivePool2d (pool_type=avg, flatten=Flatten(start_dim=1, end_dim=-1))\n",
       "  (classifier): Linear(in_features=1280, out_features=2, bias=True)\n",
       ")"
      ]
     },
     "execution_count": 24,
     "metadata": {},
     "output_type": "execute_result"
    }
   ],
   "source": [
    "model.cuda()"
   ]
  },
  {
   "cell_type": "code",
   "execution_count": 25,
   "id": "73a42909",
   "metadata": {},
   "outputs": [
    {
     "name": "stdout",
     "output_type": "stream",
     "text": [
      "epoch number: 0\n"
     ]
    },
    {
     "name": "stderr",
     "output_type": "stream",
     "text": [
      "100%|██████████| 115/115 [00:10<00:00, 11.39batch/s]\n"
     ]
    },
    {
     "name": "stdout",
     "output_type": "stream",
     "text": [
      "F1 score for class 0: 0.7122\n",
      "F1 score for class 1: 0.3632\n",
      " train loss: 100.0316 accuracy: 60.3533\n"
     ]
    },
    {
     "name": "stderr",
     "output_type": "stream",
     "text": [
      "100%|██████████| 29/29 [00:00<00:00, 30.16batch/s]\n"
     ]
    },
    {
     "name": "stdout",
     "output_type": "stream",
     "text": [
      "F1 score for class 0: 0.8754\n",
      "F1 score for class 1: 0.5977\n",
      " test loss: 0.6057 accuracy: 80.9783\n",
      "epoch number: 1\n"
     ]
    },
    {
     "name": "stderr",
     "output_type": "stream",
     "text": [
      "100%|██████████| 115/115 [00:07<00:00, 15.29batch/s]\n"
     ]
    },
    {
     "name": "stdout",
     "output_type": "stream",
     "text": [
      "F1 score for class 0: 0.8180\n",
      "F1 score for class 1: 0.5076\n",
      " train loss: 56.9510 accuracy: 73.4239\n"
     ]
    },
    {
     "name": "stderr",
     "output_type": "stream",
     "text": [
      "100%|██████████| 29/29 [00:00<00:00, 37.96batch/s]\n"
     ]
    },
    {
     "name": "stdout",
     "output_type": "stream",
     "text": [
      "F1 score for class 0: 0.9339\n",
      "F1 score for class 1: 0.7263\n",
      " test loss: 0.3224 accuracy: 89.3478\n",
      "epoch number: 2\n"
     ]
    },
    {
     "name": "stderr",
     "output_type": "stream",
     "text": [
      "100%|██████████| 115/115 [00:07<00:00, 14.65batch/s]\n"
     ]
    },
    {
     "name": "stdout",
     "output_type": "stream",
     "text": [
      "F1 score for class 0: 0.8917\n",
      "F1 score for class 1: 0.6320\n",
      " train loss: 30.9366 accuracy: 83.2609\n"
     ]
    },
    {
     "name": "stderr",
     "output_type": "stream",
     "text": [
      "100%|██████████| 29/29 [00:00<00:00, 38.30batch/s]\n"
     ]
    },
    {
     "name": "stdout",
     "output_type": "stream",
     "text": [
      "F1 score for class 0: 0.9655\n",
      "F1 score for class 1: 0.8262\n",
      " test loss: 0.2388 accuracy: 94.2391\n",
      "epoch number: 3\n"
     ]
    },
    {
     "name": "stderr",
     "output_type": "stream",
     "text": [
      "100%|██████████| 115/115 [00:07<00:00, 14.50batch/s]\n"
     ]
    },
    {
     "name": "stdout",
     "output_type": "stream",
     "text": [
      "F1 score for class 0: 0.9336\n",
      "F1 score for class 1: 0.7342\n",
      " train loss: 20.7233 accuracy: 89.3750\n"
     ]
    },
    {
     "name": "stderr",
     "output_type": "stream",
     "text": [
      "100%|██████████| 29/29 [00:00<00:00, 37.01batch/s]\n"
     ]
    },
    {
     "name": "stdout",
     "output_type": "stream",
     "text": [
      "F1 score for class 0: 0.9686\n",
      "F1 score for class 1: 0.8256\n",
      " test loss: 0.2866 accuracy: 94.6739\n",
      "epoch number: 4\n"
     ]
    },
    {
     "name": "stderr",
     "output_type": "stream",
     "text": [
      "100%|██████████| 115/115 [00:07<00:00, 15.54batch/s]\n"
     ]
    },
    {
     "name": "stdout",
     "output_type": "stream",
     "text": [
      "F1 score for class 0: 0.9452\n",
      "F1 score for class 1: 0.7656\n",
      " train loss: 16.0544 accuracy: 91.1141\n"
     ]
    },
    {
     "name": "stderr",
     "output_type": "stream",
     "text": [
      "100%|██████████| 29/29 [00:00<00:00, 39.93batch/s]\n"
     ]
    },
    {
     "name": "stdout",
     "output_type": "stream",
     "text": [
      "F1 score for class 0: 0.9679\n",
      "F1 score for class 1: 0.8214\n",
      " test loss: 0.3065 accuracy: 94.5652\n",
      "epoch number: 5\n"
     ]
    },
    {
     "name": "stderr",
     "output_type": "stream",
     "text": [
      "100%|██████████| 115/115 [00:07<00:00, 15.43batch/s]\n"
     ]
    },
    {
     "name": "stdout",
     "output_type": "stream",
     "text": [
      "F1 score for class 0: 0.9638\n",
      "F1 score for class 1: 0.8373\n",
      " train loss: 9.6995 accuracy: 94.0761\n"
     ]
    },
    {
     "name": "stderr",
     "output_type": "stream",
     "text": [
      "100%|██████████| 29/29 [00:00<00:00, 41.23batch/s]\n"
     ]
    },
    {
     "name": "stdout",
     "output_type": "stream",
     "text": [
      "F1 score for class 0: 0.9692\n",
      "F1 score for class 1: 0.8298\n",
      " test loss: 0.2765 accuracy: 94.7826\n",
      "epoch number: 6\n"
     ]
    },
    {
     "name": "stderr",
     "output_type": "stream",
     "text": [
      "100%|██████████| 115/115 [00:07<00:00, 15.48batch/s]\n"
     ]
    },
    {
     "name": "stdout",
     "output_type": "stream",
     "text": [
      "F1 score for class 0: 0.9699\n",
      "F1 score for class 1: 0.8615\n",
      " train loss: 7.7399 accuracy: 95.0543\n"
     ]
    },
    {
     "name": "stderr",
     "output_type": "stream",
     "text": [
      "100%|██████████| 29/29 [00:00<00:00, 38.69batch/s]\n"
     ]
    },
    {
     "name": "stdout",
     "output_type": "stream",
     "text": [
      "F1 score for class 0: 0.9723\n",
      "F1 score for class 1: 0.8502\n",
      " test loss: 0.2586 accuracy: 95.3261\n",
      "epoch number: 7\n"
     ]
    },
    {
     "name": "stderr",
     "output_type": "stream",
     "text": [
      "100%|██████████| 115/115 [00:07<00:00, 15.45batch/s]\n"
     ]
    },
    {
     "name": "stdout",
     "output_type": "stream",
     "text": [
      "F1 score for class 0: 0.9755\n",
      "F1 score for class 1: 0.8872\n",
      " train loss: 6.1122 accuracy: 95.9783\n"
     ]
    },
    {
     "name": "stderr",
     "output_type": "stream",
     "text": [
      "100%|██████████| 29/29 [00:00<00:00, 32.61batch/s]\n"
     ]
    },
    {
     "name": "stdout",
     "output_type": "stream",
     "text": [
      "F1 score for class 0: 0.9723\n",
      "F1 score for class 1: 0.8491\n",
      " test loss: 0.2781 accuracy: 95.3261\n",
      "epoch number: 8\n"
     ]
    },
    {
     "name": "stderr",
     "output_type": "stream",
     "text": [
      "100%|██████████| 115/115 [00:07<00:00, 15.40batch/s]\n"
     ]
    },
    {
     "name": "stdout",
     "output_type": "stream",
     "text": [
      "F1 score for class 0: 0.9796\n",
      "F1 score for class 1: 0.9033\n",
      " train loss: 5.2611 accuracy: 96.6304\n"
     ]
    },
    {
     "name": "stderr",
     "output_type": "stream",
     "text": [
      "100%|██████████| 29/29 [00:00<00:00, 40.59batch/s]\n"
     ]
    },
    {
     "name": "stdout",
     "output_type": "stream",
     "text": [
      "F1 score for class 0: 0.9730\n",
      "F1 score for class 1: 0.8531\n",
      " test loss: 0.2788 accuracy: 95.4348\n",
      "epoch number: 9\n"
     ]
    },
    {
     "name": "stderr",
     "output_type": "stream",
     "text": [
      "100%|██████████| 115/115 [00:07<00:00, 15.31batch/s]\n"
     ]
    },
    {
     "name": "stdout",
     "output_type": "stream",
     "text": [
      "F1 score for class 0: 0.9825\n",
      "F1 score for class 1: 0.9183\n",
      " train loss: 4.6308 accuracy: 97.1196\n"
     ]
    },
    {
     "name": "stderr",
     "output_type": "stream",
     "text": [
      "100%|██████████| 29/29 [00:00<00:00, 40.88batch/s]\n"
     ]
    },
    {
     "name": "stdout",
     "output_type": "stream",
     "text": [
      "F1 score for class 0: 0.9705\n",
      "F1 score for class 1: 0.8369\n",
      " test loss: 0.3216 accuracy: 95.0000\n",
      "epoch number: 10\n"
     ]
    },
    {
     "name": "stderr",
     "output_type": "stream",
     "text": [
      "100%|██████████| 115/115 [00:07<00:00, 14.99batch/s]\n"
     ]
    },
    {
     "name": "stdout",
     "output_type": "stream",
     "text": [
      "F1 score for class 0: 0.9842\n",
      "F1 score for class 1: 0.9251\n",
      " train loss: 4.3833 accuracy: 97.3913\n"
     ]
    },
    {
     "name": "stderr",
     "output_type": "stream",
     "text": [
      "100%|██████████| 29/29 [00:00<00:00, 40.60batch/s]\n"
     ]
    },
    {
     "name": "stdout",
     "output_type": "stream",
     "text": [
      "F1 score for class 0: 0.9742\n",
      "F1 score for class 1: 0.8611\n",
      " test loss: 0.2691 accuracy: 95.6522\n",
      "epoch number: 11\n"
     ]
    },
    {
     "name": "stderr",
     "output_type": "stream",
     "text": [
      "100%|██████████| 115/115 [00:07<00:00, 15.00batch/s]\n"
     ]
    },
    {
     "name": "stdout",
     "output_type": "stream",
     "text": [
      "F1 score for class 0: 0.9842\n",
      "F1 score for class 1: 0.9253\n",
      " train loss: 3.4827 accuracy: 97.3913\n"
     ]
    },
    {
     "name": "stderr",
     "output_type": "stream",
     "text": [
      "100%|██████████| 29/29 [00:00<00:00, 40.63batch/s]\n"
     ]
    },
    {
     "name": "stdout",
     "output_type": "stream",
     "text": [
      "F1 score for class 0: 0.9736\n",
      "F1 score for class 1: 0.8561\n",
      " test loss: 0.2939 accuracy: 95.5435\n",
      "epoch number: 12\n"
     ]
    },
    {
     "name": "stderr",
     "output_type": "stream",
     "text": [
      "100%|██████████| 115/115 [00:08<00:00, 13.96batch/s]\n"
     ]
    },
    {
     "name": "stdout",
     "output_type": "stream",
     "text": [
      "F1 score for class 0: 0.9863\n",
      "F1 score for class 1: 0.9359\n",
      " train loss: 3.0321 accuracy: 97.7446\n"
     ]
    },
    {
     "name": "stderr",
     "output_type": "stream",
     "text": [
      "100%|██████████| 29/29 [00:00<00:00, 39.90batch/s]\n"
     ]
    },
    {
     "name": "stdout",
     "output_type": "stream",
     "text": [
      "F1 score for class 0: 0.9706\n",
      "F1 score for class 1: 0.8345\n",
      " test loss: 0.3360 accuracy: 95.0000\n",
      "epoch number: 13\n"
     ]
    },
    {
     "name": "stderr",
     "output_type": "stream",
     "text": [
      "100%|██████████| 115/115 [00:07<00:00, 14.96batch/s]\n"
     ]
    },
    {
     "name": "stdout",
     "output_type": "stream",
     "text": [
      "F1 score for class 0: 0.9885\n",
      "F1 score for class 1: 0.9457\n",
      " train loss: 2.4021 accuracy: 98.0978\n"
     ]
    },
    {
     "name": "stderr",
     "output_type": "stream",
     "text": [
      "100%|██████████| 29/29 [00:00<00:00, 34.95batch/s]\n"
     ]
    },
    {
     "name": "stdout",
     "output_type": "stream",
     "text": [
      "F1 score for class 0: 0.9724\n",
      "F1 score for class 1: 0.8481\n",
      " test loss: 0.2881 accuracy: 95.3261\n",
      "epoch number: 14\n"
     ]
    },
    {
     "name": "stderr",
     "output_type": "stream",
     "text": [
      "100%|██████████| 115/115 [00:07<00:00, 15.20batch/s]\n"
     ]
    },
    {
     "name": "stdout",
     "output_type": "stream",
     "text": [
      "F1 score for class 0: 0.9908\n",
      "F1 score for class 1: 0.9566\n",
      " train loss: 2.0267 accuracy: 98.4783\n"
     ]
    },
    {
     "name": "stderr",
     "output_type": "stream",
     "text": [
      "100%|██████████| 29/29 [00:00<00:00, 42.02batch/s]\n"
     ]
    },
    {
     "name": "stdout",
     "output_type": "stream",
     "text": [
      "F1 score for class 0: 0.9730\n",
      "F1 score for class 1: 0.8511\n",
      " test loss: 0.2894 accuracy: 95.4348\n",
      "epoch number: 15\n"
     ]
    },
    {
     "name": "stderr",
     "output_type": "stream",
     "text": [
      "100%|██████████| 115/115 [00:07<00:00, 14.95batch/s]\n"
     ]
    },
    {
     "name": "stdout",
     "output_type": "stream",
     "text": [
      "F1 score for class 0: 0.9923\n",
      "F1 score for class 1: 0.9634\n",
      " train loss: 1.7525 accuracy: 98.7228\n"
     ]
    },
    {
     "name": "stderr",
     "output_type": "stream",
     "text": [
      "100%|██████████| 29/29 [00:00<00:00, 41.02batch/s]\n"
     ]
    },
    {
     "name": "stdout",
     "output_type": "stream",
     "text": [
      "F1 score for class 0: 0.9767\n",
      "F1 score for class 1: 0.8767\n",
      " test loss: 0.2397 accuracy: 96.0870\n",
      "epoch number: 16\n"
     ]
    },
    {
     "name": "stderr",
     "output_type": "stream",
     "text": [
      "100%|██████████| 115/115 [00:07<00:00, 15.21batch/s]\n"
     ]
    },
    {
     "name": "stdout",
     "output_type": "stream",
     "text": [
      "F1 score for class 0: 0.9918\n",
      "F1 score for class 1: 0.9608\n",
      " train loss: 2.0517 accuracy: 98.6413\n"
     ]
    },
    {
     "name": "stderr",
     "output_type": "stream",
     "text": [
      "100%|██████████| 29/29 [00:00<00:00, 39.11batch/s]\n"
     ]
    },
    {
     "name": "stdout",
     "output_type": "stream",
     "text": [
      "F1 score for class 0: 0.9749\n",
      "F1 score for class 1: 0.8632\n",
      " test loss: 0.2641 accuracy: 95.7609\n",
      "epoch number: 17\n"
     ]
    },
    {
     "name": "stderr",
     "output_type": "stream",
     "text": [
      "100%|██████████| 115/115 [00:08<00:00, 14.27batch/s]\n"
     ]
    },
    {
     "name": "stdout",
     "output_type": "stream",
     "text": [
      "F1 score for class 0: 0.9944\n",
      "F1 score for class 1: 0.9737\n",
      " train loss: 1.2230 accuracy: 99.0761\n"
     ]
    },
    {
     "name": "stderr",
     "output_type": "stream",
     "text": [
      "100%|██████████| 29/29 [00:00<00:00, 29.83batch/s]\n"
     ]
    },
    {
     "name": "stdout",
     "output_type": "stream",
     "text": [
      "F1 score for class 0: 0.9774\n",
      "F1 score for class 1: 0.8797\n",
      " test loss: 0.2466 accuracy: 96.1957\n",
      "epoch number: 18\n"
     ]
    },
    {
     "name": "stderr",
     "output_type": "stream",
     "text": [
      "100%|██████████| 115/115 [00:08<00:00, 14.30batch/s]\n"
     ]
    },
    {
     "name": "stdout",
     "output_type": "stream",
     "text": [
      "F1 score for class 0: 0.9924\n",
      "F1 score for class 1: 0.9646\n",
      " train loss: 1.6364 accuracy: 98.7500\n"
     ]
    },
    {
     "name": "stderr",
     "output_type": "stream",
     "text": [
      "100%|██████████| 29/29 [00:00<00:00, 36.33batch/s]\n"
     ]
    },
    {
     "name": "stdout",
     "output_type": "stream",
     "text": [
      "F1 score for class 0: 0.9774\n",
      "F1 score for class 1: 0.8789\n",
      " test loss: 0.2570 accuracy: 96.1957\n",
      "epoch number: 19\n"
     ]
    },
    {
     "name": "stderr",
     "output_type": "stream",
     "text": [
      "100%|██████████| 115/115 [00:07<00:00, 14.70batch/s]\n"
     ]
    },
    {
     "name": "stdout",
     "output_type": "stream",
     "text": [
      "F1 score for class 0: 0.9956\n",
      "F1 score for class 1: 0.9788\n",
      " train loss: 0.9084 accuracy: 99.2663\n"
     ]
    },
    {
     "name": "stderr",
     "output_type": "stream",
     "text": [
      "100%|██████████| 29/29 [00:00<00:00, 39.63batch/s]\n"
     ]
    },
    {
     "name": "stdout",
     "output_type": "stream",
     "text": [
      "F1 score for class 0: 0.9724\n",
      "F1 score for class 1: 0.8470\n",
      " test loss: 0.3111 accuracy: 95.3261\n",
      "epoch number: 20\n"
     ]
    },
    {
     "name": "stderr",
     "output_type": "stream",
     "text": [
      "100%|██████████| 115/115 [00:07<00:00, 14.75batch/s]\n"
     ]
    },
    {
     "name": "stdout",
     "output_type": "stream",
     "text": [
      "F1 score for class 0: 0.9957\n",
      "F1 score for class 1: 0.9796\n",
      " train loss: 0.8662 accuracy: 99.2935\n"
     ]
    },
    {
     "name": "stderr",
     "output_type": "stream",
     "text": [
      "100%|██████████| 29/29 [00:00<00:00, 40.96batch/s]\n"
     ]
    },
    {
     "name": "stdout",
     "output_type": "stream",
     "text": [
      "F1 score for class 0: 0.9787\n",
      "F1 score for class 1: 0.8874\n",
      " test loss: 0.2365 accuracy: 96.4130\n",
      "epoch number: 21\n"
     ]
    },
    {
     "name": "stderr",
     "output_type": "stream",
     "text": [
      "100%|██████████| 115/115 [00:07<00:00, 14.91batch/s]\n"
     ]
    },
    {
     "name": "stdout",
     "output_type": "stream",
     "text": [
      "F1 score for class 0: 0.9936\n",
      "F1 score for class 1: 0.9696\n",
      " train loss: 1.4153 accuracy: 98.9402\n"
     ]
    },
    {
     "name": "stderr",
     "output_type": "stream",
     "text": [
      "100%|██████████| 29/29 [00:00<00:00, 38.92batch/s]\n"
     ]
    },
    {
     "name": "stdout",
     "output_type": "stream",
     "text": [
      "F1 score for class 0: 0.9793\n",
      "F1 score for class 1: 0.8912\n",
      " test loss: 0.2259 accuracy: 96.5217\n",
      "epoch number: 22\n"
     ]
    },
    {
     "name": "stderr",
     "output_type": "stream",
     "text": [
      "100%|██████████| 115/115 [00:07<00:00, 15.01batch/s]\n"
     ]
    },
    {
     "name": "stdout",
     "output_type": "stream",
     "text": [
      "F1 score for class 0: 0.9957\n",
      "F1 score for class 1: 0.9797\n",
      " train loss: 0.8976 accuracy: 99.2935\n"
     ]
    },
    {
     "name": "stderr",
     "output_type": "stream",
     "text": [
      "100%|██████████| 29/29 [00:00<00:00, 37.21batch/s]\n"
     ]
    },
    {
     "name": "stdout",
     "output_type": "stream",
     "text": [
      "F1 score for class 0: 0.9787\n",
      "F1 score for class 1: 0.8874\n",
      " test loss: 0.2499 accuracy: 96.4130\n",
      "epoch number: 23\n"
     ]
    },
    {
     "name": "stderr",
     "output_type": "stream",
     "text": [
      "100%|██████████| 115/115 [00:07<00:00, 14.58batch/s]\n"
     ]
    },
    {
     "name": "stdout",
     "output_type": "stream",
     "text": [
      "F1 score for class 0: 0.9952\n",
      "F1 score for class 1: 0.9773\n",
      " train loss: 0.9924 accuracy: 99.2120\n"
     ]
    },
    {
     "name": "stderr",
     "output_type": "stream",
     "text": [
      "100%|██████████| 29/29 [00:00<00:00, 41.29batch/s]\n"
     ]
    },
    {
     "name": "stdout",
     "output_type": "stream",
     "text": [
      "F1 score for class 0: 0.9768\n",
      "F1 score for class 1: 0.8750\n",
      " test loss: 0.2687 accuracy: 96.0870\n",
      "epoch number: 24\n"
     ]
    },
    {
     "name": "stderr",
     "output_type": "stream",
     "text": [
      "100%|██████████| 115/115 [00:07<00:00, 15.01batch/s]\n"
     ]
    },
    {
     "name": "stdout",
     "output_type": "stream",
     "text": [
      "F1 score for class 0: 0.9967\n",
      "F1 score for class 1: 0.9844\n",
      " train loss: 0.7634 accuracy: 99.4565\n"
     ]
    },
    {
     "name": "stderr",
     "output_type": "stream",
     "text": [
      "100%|██████████| 29/29 [00:00<00:00, 40.48batch/s]\n"
     ]
    },
    {
     "name": "stdout",
     "output_type": "stream",
     "text": [
      "F1 score for class 0: 0.9793\n",
      "F1 score for class 1: 0.8904\n",
      " test loss: 0.2431 accuracy: 96.5217\n",
      "epoch number: 25\n"
     ]
    },
    {
     "name": "stderr",
     "output_type": "stream",
     "text": [
      "100%|██████████| 115/115 [00:07<00:00, 15.02batch/s]\n"
     ]
    },
    {
     "name": "stdout",
     "output_type": "stream",
     "text": [
      "F1 score for class 0: 0.9964\n",
      "F1 score for class 1: 0.9829\n",
      " train loss: 0.7015 accuracy: 99.4022\n"
     ]
    },
    {
     "name": "stderr",
     "output_type": "stream",
     "text": [
      "100%|██████████| 29/29 [00:00<00:00, 39.97batch/s]\n"
     ]
    },
    {
     "name": "stdout",
     "output_type": "stream",
     "text": [
      "F1 score for class 0: 0.9787\n",
      "F1 score for class 1: 0.8874\n",
      " test loss: 0.2144 accuracy: 96.4130\n",
      "epoch number: 26\n"
     ]
    },
    {
     "name": "stderr",
     "output_type": "stream",
     "text": [
      "100%|██████████| 115/115 [00:07<00:00, 15.26batch/s]\n"
     ]
    },
    {
     "name": "stdout",
     "output_type": "stream",
     "text": [
      "F1 score for class 0: 0.9970\n",
      "F1 score for class 1: 0.9859\n",
      " train loss: 0.5805 accuracy: 99.5109\n"
     ]
    },
    {
     "name": "stderr",
     "output_type": "stream",
     "text": [
      "100%|██████████| 29/29 [00:00<00:00, 41.18batch/s]\n"
     ]
    },
    {
     "name": "stdout",
     "output_type": "stream",
     "text": [
      "F1 score for class 0: 0.9768\n",
      "F1 score for class 1: 0.8750\n",
      " test loss: 0.2986 accuracy: 96.0870\n",
      "epoch number: 27\n"
     ]
    },
    {
     "name": "stderr",
     "output_type": "stream",
     "text": [
      "100%|██████████| 115/115 [00:07<00:00, 14.93batch/s]\n"
     ]
    },
    {
     "name": "stdout",
     "output_type": "stream",
     "text": [
      "F1 score for class 0: 0.9979\n",
      "F1 score for class 1: 0.9898\n",
      " train loss: 0.4852 accuracy: 99.6467\n"
     ]
    },
    {
     "name": "stderr",
     "output_type": "stream",
     "text": [
      "100%|██████████| 29/29 [00:00<00:00, 40.99batch/s]\n"
     ]
    },
    {
     "name": "stdout",
     "output_type": "stream",
     "text": [
      "F1 score for class 0: 0.9793\n",
      "F1 score for class 1: 0.8904\n",
      " test loss: 0.2449 accuracy: 96.5217\n",
      "epoch number: 28\n"
     ]
    },
    {
     "name": "stderr",
     "output_type": "stream",
     "text": [
      "100%|██████████| 115/115 [00:07<00:00, 15.09batch/s]\n"
     ]
    },
    {
     "name": "stdout",
     "output_type": "stream",
     "text": [
      "F1 score for class 0: 0.9972\n",
      "F1 score for class 1: 0.9867\n",
      " train loss: 0.5729 accuracy: 99.5380\n"
     ]
    },
    {
     "name": "stderr",
     "output_type": "stream",
     "text": [
      "100%|██████████| 29/29 [00:00<00:00, 40.59batch/s]\n"
     ]
    },
    {
     "name": "stdout",
     "output_type": "stream",
     "text": [
      "F1 score for class 0: 0.9768\n",
      "F1 score for class 1: 0.8750\n",
      " test loss: 0.2856 accuracy: 96.0870\n",
      "epoch number: 29\n"
     ]
    },
    {
     "name": "stderr",
     "output_type": "stream",
     "text": [
      "100%|██████████| 115/115 [00:07<00:00, 14.91batch/s]\n"
     ]
    },
    {
     "name": "stdout",
     "output_type": "stream",
     "text": [
      "F1 score for class 0: 0.9980\n",
      "F1 score for class 1: 0.9906\n",
      " train loss: 0.3602 accuracy: 99.6739\n"
     ]
    },
    {
     "name": "stderr",
     "output_type": "stream",
     "text": [
      "100%|██████████| 29/29 [00:00<00:00, 41.16batch/s]"
     ]
    },
    {
     "name": "stdout",
     "output_type": "stream",
     "text": [
      "F1 score for class 0: 0.9800\n",
      "F1 score for class 1: 0.8942\n",
      " test loss: 0.2366 accuracy: 96.6304\n",
      "Total training and inference time is: 256.330011844635\n"
     ]
    },
    {
     "name": "stderr",
     "output_type": "stream",
     "text": [
      "\n"
     ]
    }
   ],
   "source": [
    "criterion = nn.CrossEntropyLoss()\n",
    "\n",
    "optimizer = optim.Adam(model.parameters(), lr=1e-5)\n",
    "scedule = torch.optim.lr_scheduler.ReduceLROnPlateau(optimizer, mode='min',\n",
    "    factor=0.1, patience=2, threshold=0.001, threshold_mode='abs')\n",
    "\n",
    "\n",
    "epochs = 30\n",
    "\n",
    "start = time.time()\n",
    "for epoch in range(0, epochs):\n",
    "    print(\"epoch number: {0}\".format(epoch))\n",
    "    train(model)\n",
    "    validate(model)\n",
    "    \n",
    "end = time.time()\n",
    "Total_time=end-start\n",
    "print('Total training and inference time is: {0}'.format(Total_time))"
   ]
  },
  {
   "cell_type": "code",
   "execution_count": 26,
   "id": "cc1e32dc",
   "metadata": {},
   "outputs": [],
   "source": [
    "import numpy as np\n",
    "import wandb\n",
    "import matplotlib.pyplot as plt\n",
    "from sklearn.metrics import confusion_matrix\n",
    "\n",
    "def plot_confusion_matrix(model, test_dataloader, device, class_names, normalize=False):\n",
    "    model.eval()\n",
    "\n",
    "    y_true = []\n",
    "    y_pred = []\n",
    "\n",
    "    with torch.no_grad():\n",
    "        for images, labels in test_dataloader:\n",
    "            images = images.to(device)\n",
    "            labels = labels.to(device)\n",
    "            outputs = model(images)\n",
    "            _, predicted = torch.max(outputs.data, 1)\n",
    "            y_true.extend(labels.cpu().numpy())\n",
    "            y_pred.extend(predicted.cpu().numpy())\n",
    "\n",
    "    cm = confusion_matrix(y_true, y_pred)\n",
    "    if normalize:\n",
    "        cm = cm.astype('float') / cm.sum(axis=1)[:, np.newaxis]\n",
    "\n",
    "    plt.imshow(cm, interpolation='nearest', cmap=plt.cm.Blues)\n",
    "    plt.title('Confusion matrix')\n",
    "    plt.colorbar()\n",
    "    tick_marks = np.arange(len(class_names))\n",
    "    plt.xticks(tick_marks, class_names, rotation=45)\n",
    "    plt.yticks(tick_marks, class_names)\n",
    "\n",
    "    fmt = '.2f' if normalize else 'd'\n",
    "    thresh = cm.max() / 2.\n",
    "    for i in range(cm.shape[0]):\n",
    "        for j in range(cm.shape[1]):\n",
    "            plt.text(j, i, format(cm[i, j], fmt),\n",
    "                     ha=\"center\", va=\"center\",\n",
    "                     color=\"white\" if cm[i, j] > thresh else \"black\")\n",
    "\n",
    "    plt.tight_layout()\n",
    "    plt.ylabel('True label')\n",
    "    plt.xlabel('Predicted label')\n",
    "    \n",
    "    # Log the confusion matrix to WandB\n",
    "    fig = plt.gcf()\n",
    "    wandb.log({'confusion_matrix': wandb.Image(fig)}, commit=False)"
   ]
  },
  {
   "cell_type": "code",
   "execution_count": 27,
   "id": "406db807",
   "metadata": {},
   "outputs": [
    {
     "data": {
      "image/png": "[encoded data removed]",
      "text/plain": [
       "<Figure size 640x480 with 2 Axes>"
      ]
     },
     "metadata": {},
     "output_type": "display_data"
    }
   ],
   "source": [
    "plot_confusion_matrix(model, test_dataloader, device, ['Healthy','TB'], normalize=True)"
   ]
  },
  {
   "cell_type": "code",
   "execution_count": null,
   "id": "aadc1d02",
   "metadata": {},
   "outputs": [],
   "source": []
  }
 ],
 "metadata": {
  "kernelspec": {
   "display_name": "new",
   "language": "python",
   "name": "new"
  },
  "language_info": {
   "codemirror_mode": {
    "name": "ipython",
    "version": 3
   },
   "file_extension": ".py",
   "mimetype": "text/x-python",
   "name": "python",
   "nbconvert_exporter": "python",
   "pygments_lexer": "ipython3",
   "version": "3.10.9"
  }
 },
 "nbformat": 4,
 "nbformat_minor": 5
}
